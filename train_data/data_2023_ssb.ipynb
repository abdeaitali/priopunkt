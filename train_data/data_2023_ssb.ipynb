{
 "cells": [
  {
   "cell_type": "code",
   "execution_count": null,
   "id": "625d7117-d07e-4282-bbca-e335719533e2",
   "metadata": {},
   "outputs": [],
   "source": []
  },
  {
   "cell_type": "code",
   "execution_count": 1,
   "id": "7dde28ae-9c61-4814-b2b8-43d1022f10e3",
   "metadata": {
    "tags": []
   },
   "outputs": [],
   "source": [
    "dfnov=pd.read_csv('/Users/ZohrehRa/Library/CloudStorage/OneDrive-SharedLibraries-RISE/Tidpunkt - General/resultatfiler/2023/jan-nov23_added_more_columns.csv')  #aug-okt22_added_more_columns.csv\n"
   ]
  },
  {
   "cell_type": "code",
   "execution_count": 2,
   "id": "bfc3937a-5779-4f53-9b4f-f80b4552ca6e",
   "metadata": {
    "tags": []
   },
   "outputs": [],
   "source": [
    "dfdec=pd.read_csv('/Users/ZohrehRa/Library/CloudStorage/OneDrive-SharedLibraries-RISE/Tidpunkt - General/resultatfiler/2023/nov-dec23_added_more_columns.csv')  #aug-okt22_added_more_columns.csv\n"
   ]
  },
  {
   "cell_type": "code",
   "execution_count": 3,
   "id": "10703bfc-36c7-4e1a-9f51-b42cb18a095c",
   "metadata": {
    "tags": []
   },
   "outputs": [],
   "source": [
    "df12=pd.concat([dfnov, dfdec], ignore_index=True)"
   ]
  },
  {
   "cell_type": "code",
   "execution_count": 5,
   "id": "59d66277-e6a1-44fd-9495-a3f28ac9b4ee",
   "metadata": {
    "tags": []
   },
   "outputs": [
    {
     "name": "stdout",
     "output_type": "stream",
     "text": [
      "1343640\n"
     ]
    }
   ],
   "source": [
    "print(df12.resa.nunique())"
   ]
  },
  {
   "cell_type": "code",
   "execution_count": 6,
   "id": "664a5c4e-048a-44ac-9bd4-29eaae4cd4b1",
   "metadata": {
    "tags": []
   },
   "outputs": [
    {
     "data": {
      "text/plain": [
       "Index(['PlanDatum', 'PlanTidpunkt', 'Datum', 'Tågnr', 'Tåguppdrag', 'Tågläge',\n",
       "       'Plats', 'Riktning', 'Orsakskod', 'Nivå1', 'Nivå2', 'Nivå3',\n",
       "       'Orsakande tågnr', 'HändelseNr', 'Tidsavvikelse',\n",
       "       'Registrerad merförsening', 'Datum (PAU)', 'Tågslag', 'Tågsort',\n",
       "       'Aktivitetskod', 'Aktivitetskodbeskrivning', 'PlanDate', 'UtfallDate',\n",
       "       'resa', 'diff', 'G_riktning', 'StartStation_resa', 'SlutStation_resa',\n",
       "       'StartStation_uppdrag', 'SlutStation_uppdrag'],\n",
       "      dtype='object')"
      ]
     },
     "execution_count": 6,
     "metadata": {},
     "output_type": "execute_result"
    }
   ],
   "source": [
    "df12.columns"
   ]
  },
  {
   "cell_type": "code",
   "execution_count": 7,
   "id": "b6b04f93-da7b-4c74-8dd7-5a384cc6dfa9",
   "metadata": {
    "tags": []
   },
   "outputs": [],
   "source": [
    "### drop tågläge\n",
    "df12 = df12.drop(columns=['Tågläge'])"
   ]
  },
  {
   "cell_type": "code",
   "execution_count": null,
   "id": "aed912d5-d095-454a-a77e-b3892b27d456",
   "metadata": {},
   "outputs": [],
   "source": []
  },
  {
   "cell_type": "code",
   "execution_count": 6,
   "id": "5d08e3d9-fb30-42e0-ad13-f789b5072509",
   "metadata": {
    "tags": []
   },
   "outputs": [],
   "source": [
    "dfbidrag=pd.read_csv('/Users/ZohrehRa/Library/CloudStorage/OneDrive-SharedLibraries-RISE/Tidpunkt - General/resultatfiler/2023/dfbidrag2kritiskall_jan-dec2023_medhinfo_andelkritisk.csv')"
   ]
  },
  {
   "cell_type": "code",
   "execution_count": 7,
   "id": "7c126bcd-4c64-4b44-b8a8-1aa769fd5627",
   "metadata": {
    "tags": []
   },
   "outputs": [
    {
     "data": {
      "text/plain": [
       "Index(['HändelseNr', 'förseningsbidrag', 'slutförsening', 'merförsening',\n",
       "       'Plats', 'Riktning', 'Startavvikelse', 'PlanDate', 'resa', 'Orsakskod',\n",
       "       'Nivå1', 'Nivå2', 'Nivå3', 'UtfallDate', 'Tågslag', 'Aktivitetskod',\n",
       "       'Aktivitetskodbeskrivning', 'Tåguppdrag', 'Orsakande tågnr',\n",
       "       'Registrerad merförsening', 'kritisk', 'kritisk_all', 'Tågsort',\n",
       "       'HändelsePlats', 'HändelseStråk', 'HändelseBandel', 'Interntext',\n",
       "       'Händelsestartdatumet', 'Händelseslutdatumet', 'Latitud HändelsePlats',\n",
       "       'Longitud HändelsePlats', 'andel_kritisk_all', 'andel_kritisk',\n",
       "       'andel_merförsening', 'andel_förseningsbidrag'],\n",
       "      dtype='object')"
      ]
     },
     "execution_count": 7,
     "metadata": {},
     "output_type": "execute_result"
    }
   ],
   "source": [
    "dfbidrag.columns"
   ]
  },
  {
   "cell_type": "code",
   "execution_count": 16,
   "id": "1ae4a783-56aa-48f6-9e39-c4e531c76c2f",
   "metadata": {
    "tags": []
   },
   "outputs": [
    {
     "data": {
      "text/plain": [
       "array(['RST', 'GT', 'TJT'], dtype=object)"
      ]
     },
     "execution_count": 16,
     "metadata": {},
     "output_type": "execute_result"
    }
   ],
   "source": [
    "dfbidrag.Tågslag.unique()"
   ]
  },
  {
   "cell_type": "code",
   "execution_count": 8,
   "id": "c13027ce-2c93-4c69-a71b-c661cb9e4558",
   "metadata": {
    "tags": []
   },
   "outputs": [
    {
     "data": {
      "text/plain": [
       "array([nan, 'Ystadbanan', 'Västkustbanan', 'Södra Stambanan', 'Rååbanan',\n",
       "       'Malmö närområde', 'Västra Stambanan', 'Värmlandsbanan',\n",
       "       'Skånebanan', 'Bergslagsbanan', 'Svealandsbanan',\n",
       "       'Norra Stambanan', 'Godsstråket genom Skåne',\n",
       "       'Öresundsförbindelsen', 'Ådalsbanan', 'Ostkustbanan', 'Malmbanan',\n",
       "       'Kust till kustbanan', 'Blekingekustbanan', 'Markarydsbanan',\n",
       "       'Godsstråket genom Bergslagen', 'Stockholm övrig',\n",
       "       'Stockholms närområde', 'Botniabanan', 'Dalabanan',\n",
       "       '(Kristinehamn)-(Nykroppa), (Daglösen)-Persberg',\n",
       "       '(Gävle)-Karskär', 'Stambanan genom Övre Norrland', 'Mälarbanan',\n",
       "       'Västerdalsbanan', 'Göteborgs närområde', '(Sala)-Oxelösund',\n",
       "       '(Södertälje H)-Södertälje C',\n",
       "       '(Nässjö)-(Halmstad), Torup-Hyltebruk', 'Bergslagspendeln',\n",
       "       'Arlanda banan', 'Älvsborgsbanan', 'Mittbanan', 'Jönköpingsbanan',\n",
       "       'Norge/Vänerbanan med Nordlänken', 'Skelleftebanan',\n",
       "       'Stångådalsbanan', 'Pitebanan', '(Kilafors)-(Söderhamn V)',\n",
       "       'Haparandabanan', 'Tjustbanan', 'Bohusbanan', '(Forsmo)-(Hoting)',\n",
       "       'Inlandsbanan', 'Nynäsbanan', 'Viskadalsbanan', '(Umeå)-Holmsund',\n",
       "       'Fryksdalsbanan', 'Grycksbobanan', 'Gyttorp-Bofors-(Strömtorp)',\n",
       "       '(Nässjö)-Vetlanda-Åseda', '(Älmhult)-Olofström',\n",
       "       '(Jönköping gbg)-(Vaggeryd)', 'NSB', '(Nässjö)-(Hultsfred)',\n",
       "       'Kinnekullbanan', '(Hällnäs)-(Storuman)',\n",
       "       '(Mellansel)-(Örnsköldsvik C)', '(Alvhem)-Lilla Edet',\n",
       "       '(Mellerud)-Billingsfors-Bengtsfors', 'EXT', '(Kimstad)-Finspång',\n",
       "       '(Karlstad central)-Skoghall', 'Hargshamnsbanan'], dtype=object)"
      ]
     },
     "execution_count": 8,
     "metadata": {},
     "output_type": "execute_result"
    }
   ],
   "source": [
    "dfbidrag.HändelseStråk.unique()"
   ]
  },
  {
   "cell_type": "code",
   "execution_count": 44,
   "id": "19f00bcf-83e7-4fcb-af4c-c4b584c836c1",
   "metadata": {
    "tags": []
   },
   "outputs": [
    {
     "data": {
      "text/plain": [
       "array(['småförsening', 'Olyckor/Tillbud och yttre faktorer',\n",
       "       'Följdorsaker', 'Driftledning', 'Infrastruktur', 'Järnvägsföretag',\n",
       "       'utannummer', 'Ytterligare utredning krävs', ' -'], dtype=object)"
      ]
     },
     "execution_count": 44,
     "metadata": {},
     "output_type": "execute_result"
    }
   ],
   "source": [
    "dfbidrag.Nivå1.unique()"
   ]
  },
  {
   "cell_type": "code",
   "execution_count": 45,
   "id": "e74fa86b-f6ce-46db-9b0e-6173c5417cbf",
   "metadata": {
    "tags": []
   },
   "outputs": [],
   "source": [
    "SSB_resa=dfbidrag[(dfbidrag.HändelseStråk=='Södra Stambanan')&(dfbidrag.Tågslag==\"RST\")&(dfbidrag.Nivå1==\"Infrastruktur\")].resa.unique()"
   ]
  },
  {
   "cell_type": "code",
   "execution_count": 46,
   "id": "e057eede-5696-4540-ae49-fadf50d01c1b",
   "metadata": {
    "tags": []
   },
   "outputs": [
    {
     "data": {
      "text/plain": [
       "9310"
      ]
     },
     "execution_count": 46,
     "metadata": {},
     "output_type": "execute_result"
    }
   ],
   "source": [
    "SSB_resa.size"
   ]
  },
  {
   "cell_type": "code",
   "execution_count": 47,
   "id": "257d4050-99d2-4e31-b364-622760d75ff8",
   "metadata": {
    "tags": []
   },
   "outputs": [
    {
     "data": {
      "text/plain": [
       "(455574, 30)"
      ]
     },
     "execution_count": 47,
     "metadata": {},
     "output_type": "execute_result"
    }
   ],
   "source": [
    "SSB_all=df12[df12.resa.isin(SSB_resa)].copy()\n",
    "\n",
    "SSB_all.shape"
   ]
  },
  {
   "cell_type": "code",
   "execution_count": 48,
   "id": "8cfcd00b-f3f0-45f8-815c-247bbddb1087",
   "metadata": {
    "tags": []
   },
   "outputs": [],
   "source": [
    "import numpy as np\n",
    "SSB_all['G_riktning']=np.where(SSB_all['Tågnr'].astype(float) % 2 == 0, 'Norrgående','Södergående')"
   ]
  },
  {
   "cell_type": "code",
   "execution_count": 49,
   "id": "9ae703c9-dd72-4b69-a56e-8889aa3a342a",
   "metadata": {
    "tags": []
   },
   "outputs": [
    {
     "data": {
      "text/plain": [
       "27010274    Södergående\n",
       "26900939    Södergående\n",
       "27398185    Södergående\n",
       "34758755    Södergående\n",
       "26976280     Norrgående\n",
       "Name: G_riktning, dtype: object"
      ]
     },
     "execution_count": 49,
     "metadata": {},
     "output_type": "execute_result"
    }
   ],
   "source": [
    "SSB_all['G_riktning'].sample(5)"
   ]
  },
  {
   "cell_type": "code",
   "execution_count": 50,
   "id": "ddd615d9-726d-4c76-961b-0785a20f0280",
   "metadata": {
    "tags": []
   },
   "outputs": [
    {
     "data": {
      "text/plain": [
       "Index(['PlanDatum', 'PlanTidpunkt', 'Datum', 'Tågnr', 'Tåguppdrag', 'Tågläge',\n",
       "       'Plats', 'Riktning', 'Orsakskod', 'Nivå1', 'Nivå2', 'Nivå3',\n",
       "       'Orsakande tågnr', 'HändelseNr', 'Tidsavvikelse',\n",
       "       'Registrerad merförsening', 'Datum (PAU)', 'Tågslag', 'Tågsort',\n",
       "       'Aktivitetskod', 'Aktivitetskodbeskrivning', 'PlanDate', 'UtfallDate',\n",
       "       'resa', 'diff', 'G_riktning', 'StartStation_resa', 'SlutStation_resa',\n",
       "       'StartStation_uppdrag', 'SlutStation_uppdrag'],\n",
       "      dtype='object')"
      ]
     },
     "execution_count": 50,
     "metadata": {},
     "output_type": "execute_result"
    }
   ],
   "source": [
    "SSB_all.columns"
   ]
  },
  {
   "cell_type": "code",
   "execution_count": 51,
   "id": "dfbdc1af-2955-4be2-917d-654dd395be92",
   "metadata": {
    "tags": []
   },
   "outputs": [],
   "source": [
    "SSB_all.to_csv('traindata_2023_passenger_SSBevents_012025.csv',index=False)"
   ]
  },
  {
   "cell_type": "code",
   "execution_count": null,
   "id": "5f12b887-f286-4e17-9f44-ac188b54b18e",
   "metadata": {},
   "outputs": [],
   "source": []
  }
 ],
 "metadata": {
  "kernelspec": {
   "display_name": "Python 3 (ipykernel)",
   "language": "python",
   "name": "python3"
  },
  "language_info": {
   "codemirror_mode": {
    "name": "ipython",
    "version": 3
   },
   "file_extension": ".py",
   "mimetype": "text/x-python",
   "name": "python",
   "nbconvert_exporter": "python",
   "pygments_lexer": "ipython3",
   "version": "3.11.2"
  }
 },
 "nbformat": 4,
 "nbformat_minor": 5
}
