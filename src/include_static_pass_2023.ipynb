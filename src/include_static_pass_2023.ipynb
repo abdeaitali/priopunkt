{
 "cells": [
  {
   "cell_type": "markdown",
   "metadata": {},
   "source": [
    "# Include static passengers (T23)"
   ]
  },
  {
   "cell_type": "markdown",
   "metadata": {},
   "source": [
    "After running the script for matching train data (from T23) with traffic line, a CSV file containing the matching (with matching scores) is produced.\n",
    "\n",
    "We use that CSV file here to populate the train data (T23) with passenger data."
   ]
  },
  {
   "cell_type": "markdown",
   "metadata": {},
   "source": [
    "## Read input data"
   ]
  },
  {
   "cell_type": "markdown",
   "metadata": {},
   "source": [
    "We read all data from existing files, i.e., static ridership, matching (line - train), and train data."
   ]
  },
  {
   "cell_type": "code",
   "execution_count": 1,
   "metadata": {},
   "outputs": [],
   "source": [
    "# import excel file static_pass_all_2024.xlsx\n",
    "import pandas as pd\n",
    "\n",
    "# read by default 1st sheet of an excel file\n",
    "df_line = pd.read_excel('../data/output_data/static_pass_all_2024.xlsx')\n",
    "\n",
    "# read the csv file with matching result\n",
    "df_matching = pd.read_excel('../data/output_data/train_data_matched_lines.xlsx')\n",
    "\n",
    "# Ny datafil med alla RST tåg som har fått registrering av Infrastruktur händelser på södrastambanan\n",
    "df_train = pd.read_csv('../data/train_data_2023/traindata_2023_passenger_SSBevents_012025.csv')"
   ]
  },
  {
   "cell_type": "code",
   "execution_count": 2,
   "metadata": {},
   "outputs": [
    {
     "name": "stdout",
     "output_type": "stream",
     "text": [
      "Index(['Linje', 'först_sign', 'sist_sign', 'först', 'sist', 'från_sign',\n",
      "       'till_sign', 'från', 'till', 'ombord_pr_nat', 'ombord_tj_nat',\n",
      "       'ombord_arb_nat', 'ombord_arb_reg', 'ombord_tj_reg', 'ombord_övr_reg',\n",
      "       'avstigande_pr_nat', 'avstigande_tj_nat', 'avstigande_arb_nat',\n",
      "       'avstigande_arb_reg', 'avstigande_tj_reg', 'avstigande_övr_reg',\n",
      "       'påstigande_pr_nat', 'påstigande_tj_nat', 'påstigande_arb_nat',\n",
      "       'påstigande_arb_reg', 'påstigande_tj_reg', 'påstigande_övr_reg'],\n",
      "      dtype='object')\n",
      "Index(['resa', 'Tågnr', 'Tåguppdrag', 'Tågsort', 'Start_uppdrag_sign',\n",
      "       'Slut_uppdrag_sign', 'Start_resa_sign', 'Slut_resa_sign', 'Stopps',\n",
      "       'Plats_len', 'Predicted_Line', 'Score', 'Stopps_line'],\n",
      "      dtype='object')\n",
      "Index(['PlanDatum', 'PlanTidpunkt', 'Datum', 'Tågnr', 'Tåguppdrag', 'Tågläge',\n",
      "       'Plats', 'Riktning', 'Orsakskod', 'Nivå1', 'Nivå2', 'Nivå3',\n",
      "       'Orsakande tågnr', 'HändelseNr', 'Tidsavvikelse',\n",
      "       'Registrerad merförsening', 'Datum (PAU)', 'Tågslag', 'Tågsort',\n",
      "       'Aktivitetskod', 'Aktivitetskodbeskrivning', 'PlanDate', 'UtfallDate',\n",
      "       'resa', 'diff', 'G_riktning', 'StartStation_resa', 'SlutStation_resa',\n",
      "       'StartStation_uppdrag', 'SlutStation_uppdrag'],\n",
      "      dtype='object')\n"
     ]
    }
   ],
   "source": [
    "print(df_line.columns)\n",
    "print(df_matching.columns)\n",
    "print(df_train.columns)"
   ]
  },
  {
   "cell_type": "markdown",
   "metadata": {},
   "source": [
    "## Preprocessing"
   ]
  },
  {
   "cell_type": "markdown",
   "metadata": {},
   "source": [
    "we do some preprocessing of the input data.\n",
    "\n",
    "We start by converting Plats in df_train to signature."
   ]
  },
  {
   "cell_type": "code",
   "execution_count": 3,
   "metadata": {},
   "outputs": [],
   "source": [
    "df_train_rst = df_train[df_train['Tågslag'] == 'RST']\n",
    "# upper case for columns 'Plats' 'StartStation_resa', 'SlutStation_resa','StartStation_uppdrag', 'SlutStation_uppdrag\n",
    "df_train_rst.loc[:, 'Plats'] = df_train_rst['Plats'].str.upper()\n",
    "df_train_rst.loc[:,'StartStation_resa'] = df_train_rst['StartStation_resa'].str.upper()\n",
    "df_train_rst.loc[:,'SlutStation_resa'] = df_train_rst['SlutStation_resa'].str.upper()\n",
    "df_train_rst.loc[:,'StartStation_uppdrag'] = df_train_rst['StartStation_uppdrag'].str.upper()\n",
    "df_train_rst.loc[:,'SlutStation_uppdrag'] = df_train_rst['SlutStation_uppdrag'].str.upper()"
   ]
  },
  {
   "cell_type": "code",
   "execution_count": 4,
   "metadata": {},
   "outputs": [
    {
     "name": "stdout",
     "output_type": "stream",
     "text": [
      "['RUNSALA' 'DIÖ']\n"
     ]
    }
   ],
   "source": [
    "# read ../data/useful_data/Plats_sign.csv\n",
    "df_plats_sign = pd.read_csv('../data/useful_data/Plats_sign_augmented_v2.csv')\n",
    "\n",
    "# add column 'Plats_sign' to df_train_rst\n",
    "df_train_SIGN = df_train_rst.copy()\n",
    "df_train_SIGN['Plats_sign'] = df_train_rst['Plats'].map(df_plats_sign.set_index('Plats')['Plats_sign'])\n",
    "\n",
    "# print Plats of the rows with missing Plats_sign\n",
    "print(df_train_SIGN[df_train_SIGN['Plats_sign'].isnull()]['Plats'].unique())"
   ]
  },
  {
   "cell_type": "code",
   "execution_count": 5,
   "metadata": {},
   "outputs": [],
   "source": [
    "# add to df_plats_sign manually the following stations and signatures\n",
    "# (DIÖ NORRA, DIÖ), (MORA STRAND, MRAS) and (RUNSALA, ?)"
   ]
  },
  {
   "cell_type": "markdown",
   "metadata": {},
   "source": [
    "## Augment with total onbord"
   ]
  },
  {
   "cell_type": "code",
   "execution_count": null,
   "metadata": {},
   "outputs": [],
   "source": [
    "import pandas as pd\n",
    "\n",
    "# ---- Step 1. Merge predicted line into df_train_SIGN based on 'resa'\n",
    "# This adds a column 'Predicted_Line' to each train journey in df_train_SIGN.\n",
    "df_train_rst_aug = pd.merge(\n",
    "    df_train_SIGN,\n",
    "    df_matching[['resa', 'Predicted_Line']],\n",
    "    on='resa'\n",
    ")\n",
    "\n",
    "# There are some trains with no boarding or alighting events. These are not matched to any line.\n",
    "# we will remove them\n",
    "df_train_rst_aug = df_train_rst_aug.dropna(subset=['Predicted_Line'])\n",
    "\n",
    "# calculate the number of passengers on board\n",
    "df_line['Total_ombord'] = df_line[['ombord_pr_nat', 'ombord_tj_nat', 'ombord_arb_nat', \n",
    "                                              'ombord_arb_reg', 'ombord_tj_reg', 'ombord_övr_reg']].sum(axis=1)\n",
    "# calculate the number of passengers alighted\n",
    "df_line['Total_avstigande'] = df_line[['avstigande_pr_nat', 'avstigande_tj_nat', 'avstigande_arb_nat',\n",
    "                                                 'avstigande_arb_reg', 'avstigande_tj_reg', 'avstigande_övr_reg']].sum(axis=1)\n",
    "# calculate the number of passengers boading\n",
    "df_line['Total_påstigande'] = df_line[['påstigande_pr_nat', 'påstigande_tj_nat', 'påstigande_arb_nat',\n",
    "                                                 'påstigande_arb_reg', 'påstigande_tj_reg', 'påstigande_övr_reg']].sum(axis=1)"
   ]
  },
  {
   "cell_type": "markdown",
   "metadata": {},
   "source": [
    "Once we merged train data with the predicted line, and also prepared df_line with the total number of passengers. We now add columns for number of pax onboard, alighting and boarding df_train_rst_aug.\n",
    "\n",
    "For nb of pax boarding, the idea is to add the corresponding nb of boarding (given predicted line and Plats = från) for any row where column Riktning is 'avgång'. For nb of pax alighting, we do that for the corresponding nb of alighting (given predicted line and Plats = till) for any row where column Riktning is 'ankomst'. "
   ]
  },
  {
   "cell_type": "code",
   "execution_count": null,
   "metadata": {},
   "outputs": [],
   "source": [
    "# For boarding events: Riktning == 'Avgång'\n",
    "boarding_df = df_train_rst_aug[df_train_rst_aug['Riktning'] == 'Avgång'].copy()\n",
    "\n",
    "boarding_df = pd.merge(\n",
    "    boarding_df,\n",
    "    df_line[['Linje', 'från_sign', 'Total_påstigande', 'Total_ombord']],\n",
    "    left_on=['Predicted_Line', 'Plats_sign'],   # Matching: predicted line and station as origin\n",
    "    right_on=['Linje', 'från_sign'],\n",
    "    how='left'\n",
    ")\n",
    "# Optionally drop redundant merge keys:\n",
    "boarding_df = boarding_df.drop(columns=['Linje', 'från_sign'])\n",
    "\n",
    "# For alighting events: Riktning == 'Ankomst'\n",
    "alighting_df = df_train_rst_aug[df_train_rst_aug['Riktning'] == 'Ankomst'].copy()\n",
    "alighting_df = pd.merge(\n",
    "    alighting_df,\n",
    "    df_line[['Linje', 'till_sign', 'Total_avstigande', 'Total_ombord']],\n",
    "    left_on=['Predicted_Line', 'Plats_sign'],   # Matching: predicted line and station as destination\n",
    "    right_on=['Linje', 'till_sign'],\n",
    "    how='left'\n",
    ")\n",
    "# Optionally drop redundant merge keys:\n",
    "alighting_df = alighting_df.drop(columns=['Linje', 'till_sign'])\n",
    "\n",
    "# Combine the dataframes back\n",
    "df_train_rst_aug_final = pd.concat([boarding_df, alighting_df], ignore_index=True)"
   ]
  },
  {
   "cell_type": "markdown",
   "metadata": {},
   "source": [
    "There are rows with missing values of total_ombord. For these, we will consider the same value from the previous row (if any), from the same resa.\n",
    "Before that, we will have to group by resa and sort according to PlanTidpunkt (and then Riktning)."
   ]
  },
  {
   "cell_type": "code",
   "execution_count": null,
   "metadata": {},
   "outputs": [],
   "source": [
    "# Sort by resa, PlanTidpunkt, and Riktning so that the previous row within each resa is the one before in time\n",
    "df_train_rst_aug_final = df_train_rst_aug_final.sort_values(by=['resa', 'PlanTidpunkt', 'Riktning'])\n",
    "\n",
    "# Reset index to ensure the indices match\n",
    "df_train_rst_aug_final = df_train_rst_aug_final.reset_index(drop=True)\n",
    "\n",
    "# Group by resa and forward-fill missing Total_ombord values; fill any remaining NaN with -1 if needed.\n",
    "df_train_rst_aug_final['Total_ombord'] = df_train_rst_aug_final.groupby('resa')['Total_ombord'].transform(lambda x: x.ffill().fillna(-1))"
   ]
  },
  {
   "cell_type": "markdown",
   "metadata": {},
   "source": [
    "Rows with missing total ombord (or equal to -1), are replaced with average ridership over all the predicted line."
   ]
  },
  {
   "cell_type": "code",
   "execution_count": null,
   "metadata": {},
   "outputs": [],
   "source": [
    "# Calculate the average Total_ombord for each predicted line,\n",
    "# ignoring rows where Total_ombord is -1.\n",
    "line_avg = (\n",
    "    df_train_rst_aug_final.loc[df_train_rst_aug_final['Total_ombord'] != -1]\n",
    "    .groupby('Predicted_Line')['Total_ombord']\n",
    "    .mean()\n",
    "    .reset_index()\n",
    "    .rename(columns={'Total_ombord': 'Avg_Total_ombord'})\n",
    ")\n",
    "# Merge the average onboard values into the main DataFrame.\n",
    "df_train_rst_aug_final = pd.merge(\n",
    "    df_train_rst_aug_final,\n",
    "    line_avg,\n",
    "    on='Predicted_Line',\n",
    "    how='left'\n",
    ")\n",
    "\n",
    "# Replace rows where Total_ombord == -1 with the average for the predicted line.\n",
    "df_train_rst_aug_final.loc[\n",
    "    df_train_rst_aug_final['Total_ombord'] == -1, 'Total_ombord'\n",
    "] = df_train_rst_aug_final.loc[\n",
    "    df_train_rst_aug_final['Total_ombord'] == -1, 'Avg_Total_ombord'\n",
    "]\n",
    "\n",
    "# Optionally, drop the temporary column.\n",
    "df_train_rst_aug_final = df_train_rst_aug_final.drop(columns=['Avg_Total_ombord'])"
   ]
  },
  {
   "cell_type": "markdown",
   "metadata": {},
   "source": [
    "## Export data"
   ]
  },
  {
   "cell_type": "code",
   "execution_count": null,
   "metadata": {},
   "outputs": [],
   "source": [
    "# export data to excel file, keep the following columns: 'resa', 'PlanTidpunkt', 'Riktning', 'Plats', 'Plats_sign', 'Total_ombord'\n",
    "columns_to_keep = ['resa', 'PlanTidpunkt', 'Riktning', 'Plats' ,'Plats_sign', 'Total_ombord']\n",
    "df_train_rst_aug_final_to_export = df_train_rst_aug_final[columns_to_keep]\n",
    "df_train_rst_aug_final_to_export.to_excel('../data/output_data/train_data_matched_lines_with_passengers.xlsx', index=False)"
   ]
  }
 ],
 "metadata": {
  "kernelspec": {
   "display_name": "Python 3",
   "language": "python",
   "name": "python3"
  },
  "language_info": {
   "codemirror_mode": {
    "name": "ipython",
    "version": 3
   },
   "file_extension": ".py",
   "mimetype": "text/x-python",
   "name": "python",
   "nbconvert_exporter": "python",
   "pygments_lexer": "ipython3",
   "version": "3.9.5"
  }
 },
 "nbformat": 4,
 "nbformat_minor": 2
}
