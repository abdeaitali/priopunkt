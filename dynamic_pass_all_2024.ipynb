{
 "cells": [
  {
   "cell_type": "markdown",
   "metadata": {},
   "source": [
    "# Dynamic train ridership on the Swedish railways 2024."
   ]
  },
  {
   "cell_type": "markdown",
   "metadata": {},
   "source": [
    "This is a static analysis of train ridership on the Swedish railways during 2024!"
   ]
  },
  {
   "cell_type": "markdown",
   "metadata": {},
   "source": [
    "## Read Sampers data"
   ]
  },
  {
   "cell_type": "markdown",
   "metadata": {},
   "source": [
    "Let us first read the static ridership from Sampers in the excel file static_pass_all_2024.xlsx, we will also read the line details at sheet Linjer of the excel file Sampers_input_data_2024.xlsx"
   ]
  },
  {
   "cell_type": "code",
   "execution_count": null,
   "metadata": {},
   "outputs": [],
   "source": [
    "import pandas as pd\n",
    "\n",
    "# Define file paths\n",
    "static_ridership_file = 'static_pass_all_2024.xlsx'\n",
    "line_details_file = 'Sampers_input_data_2024.xlsx'\n",
    "\n",
    "# Read static ridership data from the Excel file\n",
    "static_ridership_df = pd.read_excel(static_ridership_file)  # Read all sheets\n",
    "\n",
    "# Read line details from the 'Linjer' sheet of Sampers_input_data_2024.xlsx\n",
    "line_details_df = pd.read_excel(line_details_file, sheet_name='Linjer')\n",
    "\n",
    "# Display the first few rows of each DataFrame to verify the data\n",
    "print(\"Static Ridership Data:\")\n",
    "print(static_ridership_df.head())\n",
    "\n",
    "print(\"\\nLine Details Data:\")\n",
    "print(line_details_df.head())"
   ]
  },
  {
   "cell_type": "markdown",
   "metadata": {},
   "source": [
    "## Variation over day"
   ]
  },
  {
   "cell_type": "markdown",
   "metadata": {},
   "source": [
    "First let us estimate the variation between peak and off-peak hours. In the general case we should find the patterns using traffic data (e.g., Lupp), but for simplicity we start with the case peak hours "
   ]
  },
  {
   "cell_type": "markdown",
   "metadata": {},
   "source": [
    "## Daily variation ombord"
   ]
  },
  {
   "cell_type": "markdown",
   "metadata": {},
   "source": [
    "A new data structure where the number of passengers ombord is calculated."
   ]
  },
  {
   "cell_type": "code",
   "execution_count": null,
   "metadata": {},
   "outputs": [],
   "source": []
  },
  {
   "cell_type": "markdown",
   "metadata": {},
   "source": [
    "## Plotting "
   ]
  },
  {
   "cell_type": "markdown",
   "metadata": {},
   "source": [
    "We first plot the ridership (pax ombord) for some random southbound lines."
   ]
  },
  {
   "cell_type": "code",
   "execution_count": null,
   "metadata": {},
   "outputs": [],
   "source": []
  },
  {
   "cell_type": "markdown",
   "metadata": {},
   "source": [
    "## Exporting to excel file"
   ]
  },
  {
   "cell_type": "code",
   "execution_count": null,
   "metadata": {},
   "outputs": [],
   "source": [
    "new_df_pax.columns"
   ]
  },
  {
   "cell_type": "code",
   "execution_count": null,
   "metadata": {},
   "outputs": [],
   "source": [
    "# Ensure the 'line' column is treated as text (string type)\n",
    "new_df_pax['Linje'] = new_df_pax['Linje'].astype(str)\n",
    "\n",
    "# Save the DataFrame to an Excel file\n",
    "output_filename = \"static_pass_all_2024.xlsx\"\n",
    "new_df_pax.to_excel(output_filename, index=False)\n",
    "\n",
    "print(f\"Data successfully saved to {output_filename}\")"
   ]
  }
 ],
 "metadata": {
  "kernelspec": {
   "display_name": "Python 3",
   "language": "python",
   "name": "python3"
  },
  "language_info": {
   "codemirror_mode": {
    "name": "ipython",
    "version": 3
   },
   "file_extension": ".py",
   "mimetype": "text/x-python",
   "name": "python",
   "nbconvert_exporter": "python",
   "pygments_lexer": "ipython3",
   "version": "3.9.5"
  }
 },
 "nbformat": 4,
 "nbformat_minor": 2
}
