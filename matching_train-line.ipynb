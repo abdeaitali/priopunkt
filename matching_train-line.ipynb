{
 "cells": [
  {
   "cell_type": "markdown",
   "metadata": {},
   "source": [
    "# Matching trains with traffic lines"
   ]
  },
  {
   "cell_type": "markdown",
   "metadata": {},
   "source": [
    "The main goal here is to develop a function that makes it possible to identify the line of a specific delayed train. The reason why we need such a function is because the passenger ridership estimation is given per line where the delay data is per specific train."
   ]
  },
  {
   "cell_type": "markdown",
   "metadata": {},
   "source": [
    "## Importing datasets"
   ]
  },
  {
   "cell_type": "markdown",
   "metadata": {},
   "source": [
    "First, let us import the dataset for all the traffic lines (used in the ridership estimation data)."
   ]
  },
  {
   "cell_type": "code",
   "execution_count": 14,
   "metadata": {},
   "outputs": [],
   "source": [
    "# import excel file static_pass_all_2024.xlsx\n",
    "\n",
    "import pandas as pd\n",
    "import os\n",
    "\n",
    "\n",
    "# read by default 1st sheet of an excel file\n",
    "df_line = pd.read_excel('static_pass_all_2024.xlsx')"
   ]
  },
  {
   "cell_type": "code",
   "execution_count": 15,
   "metadata": {},
   "outputs": [],
   "source": [
    "# drop all the columns except the first 3 (no need for ridership data, only the line number, name and stopping patterns are of interest)\n",
    "df_line = df_line.iloc[:, :9]"
   ]
  },
  {
   "cell_type": "markdown",
   "metadata": {},
   "source": [
    "Let us now import the train data, more specifically the trains that are affected by delays. Of interest here are particularly Tågnr\tand Tåguppdrag.\n",
    "The goal is to match all of them to a specific line number in df_line."
   ]
  },
  {
   "cell_type": "code",
   "execution_count": 16,
   "metadata": {},
   "outputs": [],
   "source": [
    "# read by default 1st sheet of an excel file\n",
    "df_train = pd.read_excel('metatraindata_2023.xlsx')"
   ]
  },
  {
   "cell_type": "markdown",
   "metadata": {},
   "source": [
    "Let us also read the Lupp data where we have more attributes for each train, more particularly the stopping pattern. There are four different files in the data folder named as follows Rapport_T23_vX.csv where X is 11, 19, 28 and 37, we will read all of these and combine them in one dataframe, note the first row of each file is the header."
   ]
  },
  {
   "cell_type": "code",
   "execution_count": 17,
   "metadata": {},
   "outputs": [],
   "source": [
    "import pandas as pd\n",
    "import glob\n",
    "\n",
    "# Define the folder path and file pattern\n",
    "folder_path = 'data/'  # Adjust the folder path if needed\n",
    "file_pattern = 'Rapport_T23_v*.csv'\n",
    "\n",
    "# Use glob to find all matching files\n",
    "file_paths = glob.glob(folder_path + file_pattern)\n",
    "\n",
    "# Read all files into a list of DataFrames\n",
    "dfs = [pd.read_csv(file, header=0) for file in file_paths]\n",
    "\n",
    "# Combine all DataFrames into one\n",
    "df_lupp = pd.concat(dfs, ignore_index=True)"
   ]
  },
  {
   "cell_type": "markdown",
   "metadata": {},
   "source": [
    "We need to clean up (make this df a bit smaller), e.g., by removing unnecessary data."
   ]
  },
  {
   "cell_type": "code",
   "execution_count": 18,
   "metadata": {},
   "outputs": [],
   "source": [
    "# from combined_df remove the following columns\n",
    "# År (PAU)\n",
    "# Veckonr (PAU)\n",
    "# Datum (PAU)\n",
    "# Tågslag, but before remove all raws where Tågslag is not RST\n",
    "\n",
    "df_lupp_rst = df_lupp[df_lupp['Tågslag'] == 'RST']\n",
    "df_lupp_rst_clean = df_lupp_rst.drop(columns=['År (PAU)', 'Veckonr (PAU)', 'Datum (PAU)', 'Tågslag'])"
   ]
  },
  {
   "cell_type": "code",
   "execution_count": 19,
   "metadata": {},
   "outputs": [],
   "source": [
    "# remove all rows where both Uppehållstypavgång is Passage and Uppehållstypankomst is Passage\n",
    "df_lupp_rst_clean = df_lupp_rst_clean[(df_lupp_rst_clean['Uppehållstypavgång'] != 'Passage') | (df_lupp_rst_clean['Uppehållstypankomst'] != 'Passage')]"
   ]
  },
  {
   "cell_type": "code",
   "execution_count": 20,
   "metadata": {},
   "outputs": [],
   "source": [
    "# check how many trains from df_train that are in df_lupp_rst_clean\n",
    "# for that search using the column Tågnr and Tåguppdrag from df_train\n",
    "# and use similar columns Tåguppdrag and Tågnr from df_lupp_rst_clean\n",
    "# to find the matching trains\n",
    "\n",
    "# make sure these are int in both dataframes\n",
    "df_train['Tågnr'] = df_train['Tågnr'].astype('Int64')\n",
    "df_train['Tåguppdrag'] = df_train['Tåguppdrag'].astype('Int64')\n",
    "df_lupp_rst_clean['Tåguppdrag'] = df_lupp_rst_clean['Tåguppdrag'].astype('Int64')\n",
    "\n",
    "# in df_lupp_rst_clean, remove spaces between numbers first in Tågnr\n",
    "# Remove spaces between numbers in the Tågnr column\n",
    "df_lupp_rst_clean['Tågnr'] = df_lupp_rst_clean['Tågnr'].astype(str).str.replace(r'\\s+', '', regex=True)\n",
    "df_lupp_rst_clean['Tågnr'] = df_lupp_rst_clean['Tågnr'].astype('Int64')"
   ]
  },
  {
   "cell_type": "code",
   "execution_count": 21,
   "metadata": {},
   "outputs": [
    {
     "name": "stdout",
     "output_type": "stream",
     "text": [
      "1 1\n",
      "3 1\n"
     ]
    }
   ],
   "source": [
    "# for each Tågnr, print how many possible Tåguppdrag there are\n",
    "# this is to see if there are any duplicates in the data\n",
    "x = df_lupp_rst_clean.groupby('Tågnr')['Tåguppdrag'].nunique()\n",
    "y = df_train.groupby('Tågnr')['Tåguppdrag'].nunique()\n",
    "# print the max and min for each dataframe\n",
    "print(x.max(), x.min())\n",
    "print(y.max(), y.min())"
   ]
  },
  {
   "cell_type": "markdown",
   "metadata": {},
   "source": [
    "## Matching train delay and Lupp data"
   ]
  },
  {
   "cell_type": "markdown",
   "metadata": {},
   "source": [
    "Before trying to find the closest line (line number/name) to a certain train (tågnr/uppdrag). Let us first look att how many delayed trains can we identify in the sample of Lupp data that we have."
   ]
  },
  {
   "cell_type": "code",
   "execution_count": 22,
   "metadata": {},
   "outputs": [
    {
     "name": "stdout",
     "output_type": "stream",
     "text": [
      "Number of matching trains: 5833\n",
      "Out of 14474 unique trains\n",
      "Percentage of matching trains: 40.30%\n"
     ]
    }
   ],
   "source": [
    "# Remove duplicates from df_train and combined_df based on ('Tågnr', 'Tåguppdrag')\n",
    "df_train_test = df_train.drop_duplicates(subset=['Tågnr', 'Tåguppdrag'])\n",
    "combined_df_test = df_lupp_rst_clean.drop_duplicates(subset=['Tågnr', 'Tåguppdrag'])\n",
    "\n",
    "# Perform an inner merge to find matching trains\n",
    "matching_trains = pd.merge(\n",
    "    df_train_test, \n",
    "    combined_df_test, \n",
    "    how='inner', \n",
    "    left_on=['Tågnr', 'Tåguppdrag'], \n",
    "    right_on=['Tågnr', 'Tåguppdrag']\n",
    ")\n",
    "\n",
    "# Count the number of matching trains\n",
    "num_matching_trains = matching_trains.shape[0]\n",
    "print(f\"Number of matching trains: {num_matching_trains}\")\n",
    "\n",
    "# Count the number of unique trains in df_train\n",
    "num_unique_trains = len(df_train_test[['Tåguppdrag']])\n",
    "print(f\"Out of {num_unique_trains} unique trains\")\n",
    "\n",
    "# Calculate the percentage of matching trains\n",
    "matching_percentage = num_matching_trains / num_unique_trains * 100\n",
    "print(f\"Percentage of matching trains: {matching_percentage:.2f}%\")"
   ]
  },
  {
   "cell_type": "markdown",
   "metadata": {},
   "source": [
    "We now know that we have stopping pattern information (from Lupp data T23) for around 40% of the delayed trains (in metatraindata_2023). From now on, we focus on matching these 40% delayed trains to their line numbers.\n",
    "\n",
    "First, we append the stopping pattern information to our delayed trains."
   ]
  },
  {
   "cell_type": "code",
   "execution_count": 23,
   "metadata": {},
   "outputs": [],
   "source": [
    "filtered_stops = df_lupp_rst_clean[\n",
    "    ((df_lupp_rst_clean['Uppehållstypavgång'].isin(['Uppehåll', 'Första']))) |\n",
    "    ((df_lupp_rst_clean['Uppehållstypankomst'].isin(['Sista'])))\n",
    "]\n",
    "\n",
    "first_dates = filtered_stops.groupby(['Tågnr', 'Tåguppdrag'])['Datum'].min().reset_index()\n",
    "filtered_stops = pd.merge(filtered_stops, first_dates, on=['Tågnr', 'Tåguppdrag', 'Datum'])\n",
    "\n",
    "stops_per_train = (\n",
    "    filtered_stops.groupby(['Tågnr', 'Tåguppdrag'], as_index=False)\n",
    "    .agg({'Delsträckanummer': list, 'Avgångplatssignatur': list, 'Uppehållstypankomst': list, 'AnkomstplatsPlatssignatur': list})\n",
    "    .apply(lambda x: pd.Series({\n",
    "        'Tågnr': x['Tågnr'],\n",
    "        'Tåguppdrag': x['Tåguppdrag'],\n",
    "        'Stopps': (\n",
    "            [stop for i, stop in zip(x['Delsträckanummer'], x['Avgångplatssignatur']) \n",
    "             if pd.notna(stop)] +\n",
    "            [x['AnkomstplatsPlatssignatur'][i] for i, type_a in enumerate(x['Uppehållstypankomst']) \n",
    "             if type_a == 'Sista' and pd.notna(x['AnkomstplatsPlatssignatur'][i])]\n",
    "        )\n",
    "    }), axis=1)\n",
    ")\n",
    "\n",
    "train_stops = pd.merge(\n",
    "    matching_trains, \n",
    "    stops_per_train, \n",
    "    how='inner', \n",
    "    on=['Tågnr', 'Tåguppdrag']\n",
    ")[['Tågnr', 'Tåguppdrag', 'Stopps']]\n",
    "\n",
    "# make sure all the stops are uppercase\n",
    "train_stops['Stopps'] = train_stops['Stopps'].apply(lambda x: [stop.upper() for stop in x])"
   ]
  },
  {
   "cell_type": "code",
   "execution_count": 24,
   "metadata": {},
   "outputs": [
    {
     "name": "stderr",
     "output_type": "stream",
     "text": [
      "C:\\Users\\AbdouAA\\AppData\\Local\\Temp\\ipykernel_14400\\2951076310.py:2: DeprecationWarning: DataFrameGroupBy.apply operated on the grouping columns. This behavior is deprecated, and in a future version of pandas the grouping columns will be excluded from the operation. Either pass `include_groups=False` to exclude the groupings or explicitly select the grouping columns after groupby to silence this warning.\n",
      "  line_stops = df_line.groupby('Linje', group_keys=False).apply(lambda x: list(x['från_sign']) + [x['till_sign'].iloc[-1]]).reset_index()\n"
     ]
    }
   ],
   "source": [
    "# Group by 'Linje' and combine the 'från_sign' and 'till_sign' for each line\n",
    "line_stops = df_line.groupby('Linje', group_keys=False).apply(lambda x: list(x['från_sign']) + [x['till_sign'].iloc[-1]]).reset_index()\n",
    "\n",
    "# Rename columns for clarity\n",
    "line_stops.columns = ['Linje', 'Stopps']"
   ]
  },
  {
   "cell_type": "markdown",
   "metadata": {},
   "source": [
    "## Matching delayed trains to traffic lines"
   ]
  },
  {
   "cell_type": "markdown",
   "metadata": {},
   "source": [
    "Once we have the stopping patter for each train (nr+uppdrag), we look at df_line for the closest line with similar stopping patterns.\n",
    "\n",
    "To do that, we can use one of the classification algorithms such as K-Nearest Neighbors (KNN) which we will use here."
   ]
  },
  {
   "cell_type": "markdown",
   "metadata": {},
   "source": [
    "## KNN without order"
   ]
  },
  {
   "cell_type": "code",
   "execution_count": 25,
   "metadata": {},
   "outputs": [
    {
     "name": "stderr",
     "output_type": "stream",
     "text": [
      "C:\\Users\\AbdouAA\\AppData\\Roaming\\Python\\Python39\\site-packages\\sklearn\\preprocessing\\_label.py:900: UserWarning: unknown class(es) ['AGG', 'AJR', 'AKT', 'ALH', 'ALV', 'ARA', 'ARNS', 'ASB', 'ASD', 'ATP', 'AVA', 'AX', 'BDO', 'BEF', 'BFO', 'BGM', 'BGS', 'BGV', 'BIA', 'BJA', 'BJB', 'BJGR', 'BJH', 'BJO', 'BJY', 'BMB', 'BNA', 'BNK', 'BODA', 'BOM', 'BRA', 'BRD', 'BRE', 'BRIN', 'BRL', 'BRNY', 'BST', 'BT', 'BTB', 'BTH', 'BUD', 'BUR', 'BUT', 'BVA', 'BVR', 'BY', 'BYM', 'BÄB', 'BÄF', 'CRGB', 'DGN', 'DLD', 'DMN', 'DN', 'DNS', 'DRE', 'DTA', 'DTC', 'EBG', 'EL', 'ENS', 'ERK', 'ETK', 'FA', 'FB', 'FC', 'FDF', 'FDL', 'FEB', 'FEÖ', 'FGL', 'FGN', 'FI', 'FIN', 'FIÄ', 'FJÅ', 'FKR', 'FLGD', 'FN', 'FNÖ', 'FOK', 'FRÅ', 'FSB', 'FUD', 'FUR', 'GAD', 'GDL', 'GHD', 'GHY', 'GIA', 'GIM', 'GLT', 'GMP', 'GP', 'GPC', 'GRO', 'GRS', 'GRU', 'GST', 'GSÅ', 'GT', 'GTF', 'GTÅ', 'GUI', 'GY', 'GÄG', 'GÅN', 'GÅP', 'GÖN', 'HDR', 'HFJ', 'HFS', 'HG', 'HGE', 'HGL', 'HGS', 'HIL', 'HJ', 'HKS', 'HLK', 'HLP', 'HLR', 'HLT', 'HLV', 'HLY', 'HLÖ', 'HNB', 'HNL', 'HNO', 'HOK', 'HRBG', 'HRL', 'HS', 'HSA', 'HSY', 'HTG', 'HTO', 'HUM', 'HVR', 'HVS', 'HYL', 'HÄ', 'HÄB', 'HÄN', 'HÄY', 'HÅG', 'HÅK', 'HÖG', 'HÖJA', 'HÖS', 'HÖY', 'IST', 'JBK', 'JK', 'JLA', 'JLI', 'JRN', 'JS', 'JU', 'JY', 'JÅR', 'JÖGB', 'KAP', 'KAS', 'KEB', 'KEI', 'KFN', 'KGD', 'KHY', 'KIA', 'KID', 'KJU', 'KJÅ', 'KLL', 'KLR', 'KLV', 'KLXV', 'KNL', 'KNS', 'KOGR', 'KOÄ', 'KPM', 'KRL', 'KRM', 'KSC', 'KSUS', 'KSÖ', 'KTM', 'KTÄ', 'KVA', 'KVÖ', 'KÄE', 'KÅ', 'KÅB', 'KÖA', 'KÖP', 'LAB', 'LDL', 'LEN', 'LGB', 'LHR', 'LIN', 'LIS', 'LIT', 'LJV', 'LKN', 'LKÄ', 'LLN', 'LMS', 'LNK', 'LOT', 'LRE', 'LRP', 'LSE', 'LSJ', 'LSN', 'LSP', 'LSÅ', 'LTR', 'LUP', 'LVE', 'LY', 'LÅK', 'LÖ', 'M', 'MAA', 'MAJ', 'MAR', 'MB', 'ME', 'MGB', 'MH', 'MLB', 'MLF', 'MLÖ', 'MON', 'MORP', 'MOS', 'MOY', 'MPB', 'MRAS', 'MSJ', 'MYN', 'MYRA', 'MÅP', 'MÖL', 'NBT', 'NHR', 'NKA', 'NOL', 'NON', 'NRT', 'NS', 'NSÖ', 'NTE', 'NVL', 'NÄ', 'NÄT', 'OL', 'OMB', 'OPE', 'OR', 'ORN', 'ORS', 'OS', 'OSL', 'OT', 'PC', 'PEA', 'PHM', 'PJ', 'PÄB', 'PÅ', 'RAS', 'RBK', 'RBO', 'RBÄ', 'RGN', 'RJN', 'RKE', 'RKÖ', 'RMH', 'RMN', 'RMTP', 'ROG', 'RPS', 'RUK', 'RUT', 'RYG', 'RYR', 'RÅS', 'RÖ', 'S', 'SAK', 'SAM', 'SARP', 'SAU', 'SAÖ', 'SBE', 'SBY', 'SBÄ', 'SDNÄ', 'SDY', 'SEN', 'SFN', 'SGÄ', 'SH', 'SIK', 'SJKA', 'SKBY', 'SKR', 'SKRP', 'SKRU', 'SKÄ', 'SLE', 'SLG', 'SLM', 'SLNÄ', 'SMN', 'SMO', 'SMP', 'SMÅ', 'SNB', 'SNT', 'SNÖ', 'SOA', 'SPJ', 'SPJB', 'SPK', 'SRN', 'SRO', 'SRR', 'SRS', 'SRT', 'SRU', 'SSA', 'STEN', 'STJE', 'STK', 'STLV', 'STO', 'STON', 'STRG', 'STV', 'STÄ', 'STÖ', 'SUM', 'SVC', 'SVE', 'SVT', 'SVÅ', 'SVÖ', 'SÄN', 'SÄP', 'SÄU', 'SÄV', 'SÄY', 'SÅN', 'TAG', 'TBA', 'TBY', 'TDJ', 'THL', 'TJS', 'TJSK', 'TJÄ', 'TL', 'TLT', 'TMÖ', 'TN', 'TOF', 'TOP', 'TOT', 'TRM', 'TSL', 'TVB', 'TVD', 'TÅV', 'TÖE', 'UF', 'ULY', 'UNA', 'UTS', 'UÅGB', 'VAD', 'VAJ', 'VBD', 'VBÄ', 'VDB', 'VDV', 'VF', 'VGA', 'VHD', 'VHY', 'VIA', 'VIBH', 'VIP', 'VJ', 'VJM', 'VLB', 'VMA', 'VMAN', 'VMU', 'VRU', 'VRÖ', 'VSG', 'VTN', 'VTO', 'VV', 'VÄ', 'VÄD', 'VÄN', 'VÄT', 'VÅN', 'VÅV', 'YL', 'ÄBGB', 'ÄLO', 'ÄNG', 'ÄNÖ', 'ÄSG', 'ÄSR', 'ÄY', 'Å', 'ÅB', 'ÅBA', 'ÅBS', 'ÅH', 'ÅK', 'ÅKG', 'ÅLG', 'ÅMN', 'ÅMY', 'ÅNM', 'ÅRD', 'ÅS', 'ÅSA', 'ÅSRA', 'ÖHL', 'ÖJR', 'ÖL', 'ÖVB', 'ÖVMB', 'ÖÄG'] will be ignored\n",
      "  warnings.warn(\n"
     ]
    },
    {
     "name": "stdout",
     "output_type": "stream",
     "text": [
      "      Tågnr  Tåguppdrag Predicted_Line  \\\n",
      "0       822        5407           5102   \n",
      "1       838        5335           5102   \n",
      "2       862        5317           5102   \n",
      "3       810        5309           5102   \n",
      "4       806        5289           5102   \n",
      "...     ...         ...            ...   \n",
      "5827  11295        1080          10701   \n",
      "5828  13582        1085          10803   \n",
      "5829  32580       15816          10803   \n",
      "5830  29741       29741          10801   \n",
      "5831  23609        2635          10803   \n",
      "\n",
      "                                            Line_Stopps  \n",
      "0                         [CST, MR, KN, Bergsbrunna, U]  \n",
      "1                         [CST, MR, KN, Bergsbrunna, U]  \n",
      "2                         [CST, MR, KN, Bergsbrunna, U]  \n",
      "3                         [CST, MR, KN, Bergsbrunna, U]  \n",
      "4                         [CST, MR, KN, Bergsbrunna, U]  \n",
      "...                                                 ...  \n",
      "5827                                  [MC, SEA, SRP, Y]  \n",
      "5828                                          [MC, TRG]  \n",
      "5829                                          [MC, TRG]  \n",
      "5830  [MIA, HB, HBGB, RYÄ, GLV, LKÖ, HÄP, DÖS, KG, G...  \n",
      "5831                                          [MC, TRG]  \n",
      "\n",
      "[5832 rows x 4 columns]\n"
     ]
    }
   ],
   "source": [
    "from sklearn.neighbors import KNeighborsClassifier\n",
    "from sklearn.preprocessing import MultiLabelBinarizer\n",
    "from sklearn.metrics import accuracy_score\n",
    "\n",
    "from sklearn.preprocessing import MultiLabelBinarizer\n",
    "from sklearn.neighbors import KNeighborsClassifier\n",
    "\n",
    "# Binarize stopping patterns for both lines and trains\n",
    "mlb = MultiLabelBinarizer()\n",
    "\n",
    "# Fit and transform stopping patterns for lines\n",
    "line_patterns = mlb.fit_transform(line_stops['Stopps'])\n",
    "\n",
    "# Transform stopping patterns for trains using the same binarizer\n",
    "train_patterns = mlb.transform(train_stops['Stopps'])\n",
    "\n",
    "# Assign line IDs as labels\n",
    "line_labels = line_stops['Linje']\n",
    "\n",
    "# Train KNN classifier\n",
    "knn = KNeighborsClassifier(n_neighbors=1)\n",
    "knn.fit(line_patterns, line_labels)\n",
    "\n",
    "# Predict closest line for each train\n",
    "predicted_lines = knn.predict(train_patterns)\n",
    "\n",
    "# Add predictions and corresponding line stops to the result\n",
    "result = train_stops.copy()\n",
    "result['Predicted_Line'] = predicted_lines\n",
    "\n",
    "# Map the stops from line_stops to the predicted lines\n",
    "line_stops_dict = line_stops.set_index('Linje')['Stopps'].to_dict()\n",
    "result['Line_Stopps'] = result['Predicted_Line'].map(line_stops_dict)\n",
    "\n",
    "# Display the result\n",
    "print(result[['Tågnr', 'Tåguppdrag', 'Predicted_Line', 'Line_Stopps']])\n"
   ]
  },
  {
   "cell_type": "markdown",
   "metadata": {},
   "source": [
    "### KNN with order"
   ]
  },
  {
   "cell_type": "code",
   "execution_count": 27,
   "metadata": {},
   "outputs": [
    {
     "name": "stderr",
     "output_type": "stream",
     "text": [
      "C:\\Users\\AbdouAA\\AppData\\Roaming\\Python\\Python39\\site-packages\\sklearn\\preprocessing\\_label.py:900: UserWarning: unknown class(es) [('A', 'AGG'), ('A', 'F'), ('A', 'HRC'), ('A', 'LR'), ('A', 'OR'), ('A', 'SN'), ('A', 'SST'), ('A', 'VBD'), ('AGG', 'HRC'), ('AJR', 'AVA'), ('AJR', 'MOS'), ('AK', 'AKT'), ('AK', 'RUT'), ('AK', 'SOA'), ('AKT', 'AK'), ('AKT', 'BLN'), ('ALH', 'ÄN'), ('ALV', 'KISA'), ('ALV', 'VIB'), ('ANY', 'GMP'), ('ANY', 'GP'), ('ANY', 'RAS'), ('APN', 'ASD'), ('AR', 'KSC'), ('AR', 'OT'), ('AR', 'ÅS'), ('ARA', 'HUM'), ('ARA', 'KÖA'), ('ARNC', 'BVR'), ('ARNC', 'NBT'), ('ARNN', 'ARNS'), ('ARNS', 'ARNN'), ('ARNS', 'NBT'), ('ASB', 'KIN'), ('ASB', 'SEE'), ('ASD', 'APN'), ('ASD', 'LR'), ('ASD', 'P'), ('ATP', 'HM'), ('ATP', 'VÖV'), ('AVA', 'AJR'), ('AVA', 'SGÄ'), ('AVKY', 'BLGC'), ('AVKY', 'BY'), ('AVKY', 'DGN'), ('AVKY', 'HÄ'), ('AVKY', 'IST'), ('AVKY', 'JU'), ('AVKY', 'TSÅ'), ('AVKY', 'U'), ('AX', 'LSE'), ('AX', 'SHV'), ('AX', 'SMO'), ('AX', 'SÄU'), ('BAA', 'VIP'), ('BDN', 'GRS'), ('BDN', 'HFS'), ('BDN', 'KLXV'), ('BDN', 'LKÄ'), ('BDN', 'LSÅ'), ('BDN', 'SBY'), ('BDN', 'SBÄ'), ('BDN', 'SVT'), ('BDN', 'SÄN'), ('BDN', 'ÄY'), ('BDO', 'SV'), ('BEF', 'BFO'), ('BF', 'KVÖ'), ('BF', 'OPE'), ('BF', 'TBY'), ('BFO', 'FLGD'), ('BFO', 'TJS'), ('BG', 'HÖY'), ('BGM', 'BJO'), ('BGM', 'SEE'), ('BGS', 'A'), ('BGV', 'ET'), ('BGV', 'FLE'), ('BGV', 'HNÄ'), ('BHB', 'ÅMN'), ('BHS', 'THN'), ('BIA', 'SUV'), ('BIH', 'LU'), ('BIH', 'TY'), ('BJA', 'ÖK'), ('BJB', 'DG'), ('BJB', 'KHN'), ('BJGR', 'AKT'), ('BJGR', 'RGN'), ('BJH', 'BÄF'), ('BJH', 'ÖX'), ('BJO', 'BGM'), ('BJO', 'HRE'), ('BJY', 'ESN'), ('BJY', 'SNÖ'), ('BLGC', 'AVKY'), ('BLGC', 'DMN'), ('BLGC', 'GTF'), ('BLGC', 'GÄG'), ('BLGC', 'HFR'), ('BLGC', 'HNO'), ('BLGC', 'KOÄ'), ('BLGC', 'LSD'), ('BLGC', 'ORN'), ('BLGC', 'RBÄ'), ('BLGC', 'RMH'), ('BLGC', 'SAU'), ('BLGC', 'SLNÄ'), ('BLGC', 'ULY'), ('BLN', 'AKT'), ('BLN', 'VJ'), ('BLV', 'M'), ('BLV', 'ÅK'), ('BMA', 'HÖY'), ('BMA', 'KAS'), ('BMB', 'HLK'), ('BMB', 'KLL'), ('BMB', 'RBK'), ('BMB', 'TRM'), ('BN', 'JR'), ('BN', 'LOT'), ('BNA', 'JLA'), ('BNA', 'MÅ'), ('BNA', 'U'), ('BNA', 'UNA'), ('BNK', 'SDNÄ'), ('BNK', 'SRS'), ('BOA', 'MOY'), ('BODA', 'ID'), ('BODA', 'SHV'), ('BOM', 'GÄ'), ('BOY', 'RÖ'), ('BRA', 'MR'), ('BRD', 'VBY'), ('BRE', 'JN'), ('BRH', 'RMN'), ('BRH', 'ÖR'), ('BRIN', 'N'), ('BRIN', 'ORY'), ('BRL', 'ÖX'), ('BRNY', 'BRO'), ('BRO', 'TOT'), ('BSC', 'GRO'), ('BSC', 'KIN'), ('BSC', 'KNL'), ('BST', 'HLS'), ('BST', 'JRN'), ('BST', 'LDL'), ('BST', 'UÅ'), ('BST', 'VDN'), ('BT', 'VR'), ('BTB', 'UÅ'), ('BTB', 'VBY'), ('BTH', 'TN'), ('BTH', 'ÅVG'), ('BUD', 'BDN'), ('BUR', 'SGÄ'), ('BUR', 'SRS'), ('BUT', 'HVR'), ('BUT', 'TSL'), ('BVA', 'SGS'), ('BVR', 'SKBY'), ('BX', 'LKN'), ('BX', 'SMN'), ('BY', 'HÄ'), ('BY', 'JR'), ('BYM', 'VGD'), ('BÄ', 'PL'), ('BÄ', 'STV'), ('BÄB', 'FRÅ'), ('BÄB', 'VÄT'), ('BÄF', 'ED'), ('BÅA', 'SPJ'), ('BÅL', 'SUB'), ('CR', 'ATP'), ('CRGB', 'CR'), ('CST', 'ARNS'), ('CST', 'AV'), ('CST', 'BÅL'), ('CST', 'FLE'), ('CST', 'GÄ'), ('CST', 'HPBG'), ('CST', 'MSJ'), ('CST', 'OR'), ('CST', 'SO'), ('CST', 'SÄY'), ('CST', 'T'), ('CST', 'UPV'), ('CST', 'ÄS'), ('DG', 'BJB'), ('DG', 'HS'), ('DG', 'HÖJA'), ('DG', 'SRT'), ('DG', 'SST'), ('DG', 'SVÅ'), ('DGN', 'SV'), ('DL', 'HLV'), ('DLD', 'LGB'), ('DLD', 'TSL'), ('DMN', 'BLGC'), ('DMN', 'ORN'), ('DN', 'FGC'), ('DN', 'SKB'), ('DNS', 'VÄY'), ('DNS', 'ÖK'), ('DRE', 'TOF'), ('DRE', 'VDI'), ('DT', 'VÅV'), ('DTA', 'DTC'), ('DTA', 'MLF'), ('DTC', 'DTA'), ('DTC', 'HTG'), ('DU', 'ENS'), ('DÅ', 'RBÄ'), ('E', 'HM'), ('E', 'MAR'), ('EBG', 'JÅR'), ('EBG', 'NK'), ('ED', 'FDF'), ('ED', 'MON'), ('ED', 'RÅS'), ('EI', 'LJV'), ('EL', 'KIL'), ('EL', 'KSC'), ('EN', 'KSC'), ('ENS', 'DU'), ('ENS', 'STR'), ('ENS', 'ÅNN'), ('EP', 'VÅN'), ('ERK', 'ÖX'), ('ESN', 'BJY'), ('ET', 'BGV'), ('ET', 'BVA'), ('ET', 'FOK'), ('ET', 'HL'), ('ET', 'RKE'), ('ET', 'SKRP'), ('ET', 'SST'), ('ET', 'SÖÖ'), ('ETK', 'BST'), ('F', 'A'), ('F', 'K'), ('F', 'MU'), ('F', 'OR'), ('F', 'RMTP'), ('FA', 'LÅ'), ('FABP', 'FUR'), ('FAL', 'ÖVMB'), ('FB', 'HG'), ('FB', 'SNV'), ('FB', 'SV'), ('FC', 'JPS'), ('FC', 'LKP'), ('FC', 'LVE'), ('FC', 'VAA'), ('FD', 'BGS'), ('FD', 'NS'), ('FD', 'OR'), ('FDF', 'ÖX'), ('FDL', 'N'), ('FEÖ', 'LHR'), ('FEÖ', 'S'), ('FGC', 'DN'), ('FGC', 'FGN'), ('FGL', 'MOT'), ('FGN', 'FGC'), ('FGN', 'SMJ'), ('FGN', 'VAD'), ('FGÅ', 'LEN'), ('FHM', 'HLK'), ('FHM', 'LNÅ'), ('FHM', 'ÖÄG'), ('FI', 'NR'), ('FIN', 'HM'), ('FIN', 'KVI'), ('FIN', 'PT'), ('FIN', 'SAL'), ('FIN', 'SÄ'), ('FIN', 'VTO'), ('FIÄ', 'KLL'), ('FIÄ', 'LKP'), ('FJÅ', 'GV'), ('FJÅ', 'HÅK'), ('FJÅ', 'KTM'), ('FJÅ', 'LAB'), ('FKI', 'CRGB'), ('FKR', 'HKS'), ('FKR', 'TBY'), ('FL', 'FUD'), ('FLB', 'K'), ('FLB', 'SK'), ('FLB', 'SST'), ('FLE', 'KSU'), ('FLE', 'MLÖ'), ('FLE', 'SST'), ('FLGD', 'BFO'), ('FLGD', 'LGB'), ('FLN', 'DMN'), ('FLN', 'KOÄ'), ('FLN', 'LSJ'), ('FLN', 'ORN'), ('FLN', 'RYG'), ('FLN', 'SV'), ('FLN', 'ÖR'), ('FM', 'ÄNG'), ('FN', 'F'), ('FNÖ', 'HSD'), ('FNÖ', 'KRF'), ('FOK', 'ET'), ('FOK', 'KÖR'), ('FRA', 'HRC'), ('FRA', 'KNL'), ('FRA', 'MOY'), ('FRÅ', 'BÄB'), ('FRÅ', 'TLT'), ('FS', 'HLR'), ('FSB', 'STP'), ('FT', 'LJV'), ('FUD', 'FL'), ('FUD', 'KG'), ('FUR', 'HD'), ('FV', 'HSA'), ('FV', 'VDV'), ('FVK', 'BOM'), ('G', 'APN'), ('G', 'ASD'), ('G', 'F'), ('G', 'LIS'), ('G', 'LR'), ('G', 'SN'), ('G', 'SST'), ('G', 'SVE'), ('G', 'SÄV'), ('G', 'VB'), ('G', 'YB'), ('GAD', 'HFR'), ('GAD', 'SV'), ('GAL', 'TJSK'), ('GAL', 'ÖVMB'), ('GAS', 'LES'), ('GAS', 'NÖE'), ('GAS', 'OR'), ('GAS', 'THN'), ('GDÖ', 'FA'), ('GG', 'HLF'), ('GG', 'KHY'), ('GHD', 'UÖ'), ('GHY', 'HLF'), ('GHY', 'HLT'), ('GHY', 'KHN'), ('GHY', 'NKA'), ('GIA', 'HÖG'), ('GIA', 'SBE'), ('GIA', 'ÖKN'), ('GIM', 'NOG'), ('GIM', 'UÅ'), ('GIM', 'UÅÖ'), ('GLT', 'MK'), ('GMP', 'N'), ('GNF', 'BLGC'), ('GNP', 'GÖN'), ('GNP', 'HÅG'), ('GNP', 'TJÄ'), ('GNP', 'VIA'), ('GNP', 'ÅMY'), ('GNÖ', 'HTO'), ('GP', 'TNS'), ('GPC', 'JK'), ('GPC', 'KÅB'), ('GRO', 'G'), ('GRS', 'MK'), ('GRU', 'SGS'), ('GSS', 'SMP'), ('GST', 'SUS'), ('GSÅ', 'MRC'), ('GSÅ', 'RV'), ('GT', 'N'), ('GTF', 'U'), ('GTÅ', 'ÅBS'), ('GUI', 'HFJ'), ('GUI', 'LSE'), ('GUI', 'SHV'), ('GV', 'FJÅ'), ('GV', 'HÅK'), ('GV', 'KLV'), ('GV', 'PEA'), ('GV', 'PJ'), ('GV', 'STK'), ('GY', 'GV'), ('GY', 'SJKA'), ('GÄ', 'AX'), ('GÄ', 'FB'), ('GÄ', 'HFJ'), ('GÄ', 'HLY'), ('GÄ', 'HPBG'), ('GÄ', 'KFN'), ('GÄ', 'KRL'), ('GÄ', 'LSE'), ('GÄ', 'LÖ'), ('GÄ', 'NVL'), ('GÄ', 'OSL'), ('GÄ', 'SNV'), ('GÄ', 'SUC'), ('GÄ', 'SÄU'), ('GÄ', 'TDJ'), ('GÄ', 'VV'), ('GÄG', 'BLGC'), ('GÄG', 'LA'), ('GÄG', 'SLNÄ'), ('GÄG', 'ULY'), ('GÅN', 'KRF'), ('GÅN', 'VÄY'), ('GÅN', 'ÖK'), ('GÅP', 'AV'), ('GÖ', 'HNB'), ('GÖ', 'STV'), ('GÖN', 'MAJ'), ('GÖN', 'NJB'), ('HB', 'HLP'), ('HB', 'KA'), ('HB', 'KL'), ('HB', 'VTO'), ('HB', 'ÅP'), ('HBD', 'LEN'), ('HBGB', 'TP'), ('HD', 'GRO'), ('HD', 'SARP'), ('HD', 'Ä'), ('HDM', 'SNB'), ('HDM', 'VHY'), ('HDN', 'RBO'), ('HDR', 'HD'), ('HF', 'VIBH'), ('HFJ', 'GÄ'), ('HFJ', 'SHV'), ('HFJ', 'SMO'), ('HFJ', 'TDJ'), ('HFJ', 'VV'), ('HFR', 'GAD'), ('HFR', 'KOÄ'), ('HFR', 'LSJ'), ('HFS', 'GLT'), ('HG', 'GÄ'), ('HGE', 'FGC'), ('HGE', 'LA'), ('HGL', 'NBT'), ('HGS', 'JS'), ('HGS', 'LIT'), ('HIE', 'LNK'), ('HIE', 'M'), ('HIE', 'OX'), ('HIL', 'BSC'), ('HJ', 'RF'), ('HJP', 'LU'), ('HJP', 'M'), ('HKL', 'GÄ'), ('HKL', 'HÅG'), ('HKL', 'LSN'), ('HKL', 'STEN'), ('HKL', 'STON'), ('HKL', 'SV'), ('HKL', 'TJÄ'), ('HKL', 'VIA'), ('HKL', 'ÅH'), ('HKL', 'ÅMY'), ('HKS', 'FKR'), ('HKS', 'SVC'), ('HL', 'BY'), ('HL', 'HLR'), ('HLF', 'GG'), ('HLF', 'GHY'), ('HLF', 'KEB'), ('HLK', 'BMB'), ('HLK', 'FHM'), ('HLK', 'KLL'), ('HLK', 'LNÅ'), ('HLK', 'RBK'), ('HLP', 'KL'), ('HLR', 'FS'), ('HLR', 'TSÅ'), ('HLS', 'BST'), ('HLS', 'LSP'), ('HLT', 'KIL'), ('HLT', 'SF'), ('HLV', 'DL'), ('HLV', 'RBH'), ('HLY', 'AX'), ('HLY', 'HFJ'), ('HLY', 'SÄU'), ('HLÖ', 'SÖÖ'), ('HM', 'ATP'), ('HM', 'BIH'), ('HM', 'E'), ('HM', 'FIN'), ('HM', 'HB'), ('HM', 'HV'), ('HM', 'KAP'), ('HM', 'KR'), ('HM', 'KVI'), ('HM', 'MGB'), ('HM', 'MLB'), ('HM', 'MRD'), ('HM', 'N'), ('HM', 'THL'), ('HM', 'VTO'), ('HM', 'VÄD'), ('HNB', 'BF'), ('HNB', 'LÖ'), ('HND', 'VGA'), ('HNL', 'HSD'), ('HNL', 'SEN'), ('HNL', 'TRÅ'), ('HNO', 'FLN'), ('HNO', 'KOÄ'), ('HNO', 'LSJ'), ('HNÄ', 'BGV'), ('HNÄ', 'SKRP'), ('HOK', 'MBÄ'), ('HOK', 'VGD'), ('HOVA', 'TVD'), ('HP', 'KLXV'), ('HPBG', 'FD'), ('HPBG', 'FLE'), ('HPBG', 'HS'), ('HPBG', 'LLN'), ('HPBG', 'MY'), ('HPBG', 'SST'), ('HPBG', 'SVÅ'), ('HPBG', 'SÖÖ'), ('HPBG', 'ÖB'), ('HPBG', 'ÖR'), ('HRBG', 'HPBG'), ('HRC', 'A'), ('HRC', 'FD'), ('HRC', 'KNL'), ('HRC', 'OR'), ('HRC', 'SST'), ('HRC', 'VAA'), ('HRE', 'BJO'), ('HRL', 'V'), ('HS', 'DG'), ('HS', 'HPBG'), ('HS', 'LÅ'), ('HSA', 'ÖR'), ('HSD', 'FNÖ'), ('HSD', 'HNL'), ('HSD', 'HSY'), ('HSD', 'HÄN'), ('HSD', 'MÖL'), ('HSD', 'SEN'), ('HSD', 'SPK'), ('HSY', 'SUC'), ('HTG', 'DTC'), ('HTG', 'UF'), ('HTO', 'GNÖ'), ('HTO', 'V'), ('HUM', 'GIA'), ('HUM', 'HÖG'), ('HUM', 'KÖA'), ('HUM', 'NOG'), ('HUM', 'RUK'), ('HUM', 'ÖKN'), ('HV', 'AV'), ('HVP', 'ÅRD'), ('HVR', 'BUT'), ('HVR', 'ÅB'), ('HVS', 'NHR'), ('HVS', 'RKÖ'), ('HY', 'IST'), ('HY', 'JLA'), ('HYL', 'HM'), ('HYL', 'KL'), ('HYL', 'MIA'), ('HYL', 'TY'), ('HÄ', 'JU'), ('HÄ', 'TSÅ'), ('HÄB', 'KRF'), ('HÄB', 'VÄY'), ('HÄB', 'ÖK'), ('HÄN', 'TRÅ'), ('HÄY', 'HÅS'), ('HÄY', 'MYK'), ('HÅG', 'GNP'), ('HÅG', 'HKL'), ('HÅK', 'FJÅ'), ('HÅK', 'GV'), ('HÅP', 'GOP'), ('HÅP', 'STLV'), ('HÅS', 'HÄY'), ('HÖ', 'MLB'), ('HÖF', 'HÖS'), ('HÖF', 'NON'), ('HÖF', 'ÄNÖ'), ('HÖG', 'HUM'), ('HÖG', 'ÖKN'), ('HÖJA', 'KHN'), ('HÖS', 'HÖF'), ('HÖS', 'UÅÖ'), ('HÖY', 'BG'), ('HÖY', 'BMA'), ('ID', 'BODA'), ('ID', 'LSN'), ('IN', 'BLGC'), ('IST', 'AVKY'), ('IST', 'HY'), ('IST', 'SL'), ('IST', 'SNB'), ('IST', 'UNA'), ('JBK', 'ÅLG'), ('JK', 'GPC'), ('JK', 'PJ'), ('JKB', 'BÅL'), ('JLA', 'BNA'), ('JLA', 'IST'), ('JLA', 'MÅ'), ('JLA', 'UNA'), ('JLI', 'LIT'), ('JLI', 'ÖSV'), ('JN', 'TBA'), ('JPN', 'SFN'), ('JPS', 'FC'), ('JPS', 'LVE'), ('JPS', 'STLV'), ('JPS', 'VAA'), ('JR', 'BN'), ('JR', 'KSÖ'), ('JR', 'LTR'), ('JR', 'SKÄ'), ('JR', 'SMÅ'), ('JRN', 'BST'), ('JRN', 'KLR'), ('JRN', 'KTÄ'), ('JRN', 'STO'), ('JRN', 'ÄY'), ('JS', 'HGS'), ('JS', 'UF'), ('JU', 'AVKY'), ('JU', 'HÄ'), ('JU', 'KBN'), ('JY', 'TJSK'), ('JY', 'VBÄ'), ('JÅR', 'GTÅ'), ('JÅR', 'KON'), ('JÖ', 'RKÖ'), ('JÖGB', 'HVS'), ('K', 'BT'), ('K', 'F'), ('K', 'FLB'), ('K', 'SST'), ('K', 'ÅBS'), ('KA', 'MIA'), ('KA', 'Ä'), ('KA', 'ÅP'), ('KAC', 'KAS'), ('KAC', 'SDY'), ('KAP', 'CR'), ('KAS', 'BMA'), ('KAS', 'KAC'), ('KB', 'KRD'), ('KB', 'ÅSA'), ('KBN', 'OMB'), ('KBN', 'SNT'), ('KBÄ', 'KSUS'), ('KD', 'TY'), ('KD', 'VTO'), ('KEB', 'GG'), ('KEI', 'HP'), ('KFN', 'GÄ'), ('KFN', 'OB'), ('KFN', 'SMO'), ('KG', 'FUD'), ('KG', 'HB'), ('KG', 'KVI'), ('KG', 'LMA'), ('KG', 'M'), ('KGD', 'HG'), ('KGD', 'JU'), ('KGD', 'SV'), ('KHN', 'BJB'), ('KHN', 'HLF'), ('KHN', 'KSC'), ('KHN', 'KVÄ'), ('KHN', 'SRR'), ('KHN', 'SRT'), ('KHN', 'ÖL'), ('KHY', 'GG'), ('KHY', 'LA'), ('KHÄ', 'BRO'), ('KID', 'LRD'), ('KID', 'TOU'), ('KIL', 'GDL'), ('KIL', 'KSC'), ('KIL', 'SKR'), ('KIL', 'TLT'), ('KIL', 'VDB'), ('KIL', 'ÅL'), ('KIN', 'ASB'), ('KIN', 'BSC'), ('KIN', 'VFO'), ('KISA', 'ALV'), ('KJU', 'ET'), ('KJÅ', 'BLN'), ('KJÅ', 'RGN'), ('KJÅ', 'VJ'), ('KL', 'HM'), ('KL', 'MIA'), ('KL', 'TY'), ('KL', 'ÅP'), ('KLL', 'BMB'), ('KLL', 'FIÄ'), ('KLL', 'HLK'), ('KLL', 'LKP'), ('KLR', 'ÄY'), ('KLS', 'GÄ'), ('KLS', 'ME'), ('KLS', 'RBO'), ('KLS', 'SHV'), ('KLS', 'SÄU'), ('KLV', 'NTV'), ('KLXV', 'BDN'), ('KLXV', 'BUD'), ('KLXV', 'KEI'), ('KMB', 'GY'), ('KMB', 'LAB'), ('KMB', 'SJKA'), ('KMS', 'FI'), ('KN', 'SÄY'), ('KNL', 'BSC'), ('KNL', 'FRA'), ('KNS', 'RTS'), ('KNS', 'SUN'), ('KOGR', 'ED'), ('KOGR', 'OR'), ('KON', 'EBG'), ('KON', 'GTÅ'), ('KON', 'ÅBS'), ('KOÄ', 'FLN'), ('KOÄ', 'GAD'), ('KOÄ', 'HFR'), ('KOÄ', 'RYG'), ('KP', 'MORP'), ('KP', 'VSG'), ('KPM', 'ÅL'), ('KRF', 'DNS'), ('KRF', 'FNÖ'), ('KRF', 'GÅN'), ('KRF', 'MÖL'), ('KRF', 'SPK'), ('KRL', 'AX'), ('KRL', 'SMO'), ('KRL', 'SÄU'), ('KRM', 'JPN'), ('KRM', 'NÄ'), ('KRM', 'SFN'), ('KRM', 'ÖS'), ('KRM', 'ÖSV'), ('KSC', 'AR'), ('KSC', 'KHN'), ('KSC', 'KIL'), ('KSC', 'KVÄ'), ('KSC', 'SKR'), ('KSC', 'SÅN'), ('KSC', 'VE'), ('KSC', 'ÖL'), ('KSUS', 'ET'), ('KSUS', 'RKE'), ('KSÖ', 'JR'), ('KSÖ', 'VL'), ('KTM', 'FJÅ'), ('KTM', 'LAB'), ('KTÄ', 'ÄY'), ('KVA', 'NTE'), ('KVA', 'NTV'), ('KVH', 'HRL'), ('KVI', 'HBGB'), ('KVI', 'HYL'), ('KVI', 'LU'), ('KVI', 'MÖR'), ('KVI', 'PT'), ('KVÄ', 'KHN'), ('KVÄ', 'KSC'), ('KVÄ', 'SRR'), ('KVÄ', 'ÖL'), ('KVÖ', 'RJN'), ('KVÖ', 'ÅSRA'), ('KÄE', 'KGD'), ('KÄE', 'SUC'), ('KÄN', 'BRNY'), ('KÅ', 'BLN'), ('KÅB', 'GPC'), ('KÅB', 'VAJ'), ('KÖA', 'NOG'), ('KÖA', 'RUK'), ('KÖA', 'ÖK'), ('KÖP', 'TLI'), ('KÖP', 'Y'), ('KÖR', 'FOK'), ('KÖR', 'RKE'), ('KÖR', 'VSG'), ('LA', 'GÄG'), ('LA', 'HGE'), ('LA', 'KHY'), ('LA', 'RMH'), ('LA', 'SLNÄ'), ('LA', 'ULY'), ('LAB', 'LIN'), ('LAB', 'PEA'), ('LAB', 'SJKA'), ('LAOV', 'HDR'), ('LD', 'VDV'), ('LDL', 'JRN'), ('LEN', 'FGÅ'), ('LEN', 'HBD'), ('LES', 'GAS'), ('LG', 'GRU'), ('LGB', 'DLD'), ('LGB', 'FLGD'), ('LHR', 'FEÖ'), ('LHR', 'ÄLO'), ('LIN', 'GV'), ('LIS', 'GRO'), ('LIS', 'MDN'), ('LIS', 'MYK'), ('LIT', 'HGS'), ('LIT', 'JLI'), ('LJ', 'GHD'), ('LJU', 'BSC'), ('LJU', 'FRA'), ('LJU', 'TOP'), ('LJV', 'EI'), ('LJV', 'FT'), ('LKN', 'MY'), ('LKP', 'FC'), ('LKP', 'FIÄ'), ('LKP', 'KLL'), ('LKÄ', 'BDN'), ('LKÄ', 'MK'), ('LKÖ', 'DÖS'), ('LLN', 'LÅ'), ('LMA', 'KG'), ('LMA', 'M'), ('LMA', 'MGB'), ('LME', 'HIL'), ('LMS', 'SDNÄ'), ('LMS', 'SUM'), ('LNK', 'PHM'), ('LNÅ', 'FHM'), ('LNÅ', 'ÄSR'), ('LO', 'SRU'), ('LOT', 'AB'), ('LOT', 'U'), ('LP', 'FI'), ('LP', 'HJ'), ('LP', 'TN'), ('LP', 'TNS'), ('LR', 'A'), ('LR', 'ASD'), ('LR', 'OR'), ('LRD', 'KID'), ('LRE', 'NK'), ('LRE', 'SSA'), ('LRP', 'ÖVN'), ('LS', 'HNB'), ('LS', 'SKÄ'), ('LSD', 'GNF'), ('LSE', 'AX'), ('LSE', 'GUI'), ('LSE', 'HFJ'), ('LSE', 'SHV'), ('LSE', 'SMO'), ('LSE', 'SÄU'), ('LSE', 'TDJ'), ('LSE', 'VV'), ('LSJ', 'FLN'), ('LSJ', 'HFR'), ('LSN', 'HKL'), ('LSN', 'MYRA'), ('LSN', 'SHV'), ('LSP', 'LY'), ('LSÅ', 'MK'), ('LTR', 'ÖS'), ('LU', 'BIH'), ('LU', 'FIN'), ('LU', 'HBGB'), ('LU', 'HJP'), ('LU', 'HYL'), ('LU', 'KD'), ('LU', 'KVI'), ('LU', 'M'), ('LU', 'MGB'), ('LU', 'MLB'), ('LU', 'SAL'), ('LU', 'SG'), ('LU', 'TP'), ('LU', 'VTO'), ('LU', 'ÅK'), ('LU', 'ÅP'), ('LUP', 'SMP'), ('LUP', 'TLI'), ('LVE', 'FC'), ('LVE', 'JPS'), ('LY', 'HLS'), ('LYD', 'TVD'), ('LYV', 'OL'), ('LÅ', 'DG'), ('LÅ', 'HRBG'), ('LÅ', 'SLE'), ('LÅK', 'KÅ'), ('LÖ', 'JR'), ('LÖ', 'LOT'), ('LÖ', 'OPE'), ('M', 'BLV'), ('M', 'FSB'), ('M', 'HIE'), ('M', 'HJP'), ('M', 'KGÅ'), ('M', 'LMA'), ('M', 'LNK'), ('M', 'LU'), ('M', 'MLB'), ('M', 'OX'), ('M', 'TRI'), ('M', 'VID'), ('M', 'ÖVN'), ('MAA', 'MEH'), ('MAA', 'ÄKB'), ('MAJ', 'GNP'), ('MAJ', 'NJB'), ('MAR', 'E'), ('MAR', 'TP'), ('MB', 'KLS'), ('MBÄ', 'FDL'), ('MBÄ', 'HOK'), ('MDN', 'GRO'), ('MDN', 'LIS'), ('ME', 'SUC'), ('MEH', 'MAA'), ('MGB', 'M'), ('MH', 'T'), ('MI', 'NÄ'), ('MI', 'SFN'), ('MI', 'TÅV'), ('MI', 'ÖS'), ('MK', 'KVA'), ('MK', 'LKÄ'), ('MK', 'PC'), ('MK', 'STÄ'), ('ML', 'BJH'), ('ML', 'BRL'), ('ML', 'ERK'), ('ML', 'KPM'), ('ML', 'THN'), ('ML', 'TÖE'), ('ML', 'ÅB'), ('MLB', 'HM'), ('MLF', 'DTA'), ('MLF', 'VMA'), ('MLÖ', 'HNÄ'), ('MO', 'GÅP'), ('MON', 'KOGR'), ('MORP', 'VÅ'), ('MORP', 'VÅV'), ('MOS', 'AJR'), ('MOS', 'PÄB'), ('MOT', 'Å'), ('MOY', 'BOA'), ('MOY', 'TOP'), ('MPB', 'ROG'), ('MPB', 'STP'), ('MR', 'MYN'), ('MR', 'NBT'), ('MRAS', 'MRC'), ('MRC', 'GSÅ'), ('MRC', 'MRAS'), ('MRC', 'VTN'), ('MRD', 'HD'), ('MRU', 'SAK'), ('MRU', 'VRU'), ('MSJ', 'SÖÖ'), ('MST', 'HLK'), ('MU', 'F'), ('MYK', 'BSC'), ('MYK', 'HÄY'), ('MYK', 'LIS'), ('MYRA', 'BODA'), ('MYRA', 'HKL'), ('MYRA', 'ID'), ('MÅ', 'BNA'), ('MÅ', 'IST'), ('MÅ', 'JLA'), ('MÅ', 'UNA'), ('MÅP', 'BYM'), ('MÅP', 'TAG'), ('MÅP', 'VGD'), ('MÖL', 'HSD'), ('MÖL', 'KRF'), ('MÖR', 'HBGB'), ('N', 'BRIN'), ('N', 'GÅP'), ('N', 'O'), ('N', 'SNÖ'), ('N', 'SÄ'), ('N', 'ÄNG'), ('NBT', 'CST'), ('NHR', 'HVS'), ('NHR', 'TAG'), ('NJB', 'MAJ'), ('NJB', 'STON'), ('NJB', 'TJÄ'), ('NJB', 'ÅKG'), ('NK', 'VHD'), ('NK', 'ÅBA'), ('NKA', 'GHY'), ('NKA', 'SF'), ('NOG', 'GIM'), ('NOG', 'HUM'), ('NOG', 'HÖS'), ('NOG', 'KÖA'), ('NOG', 'NON'), ('NOG', 'RUK'), ('NOG', 'SBE'), ('NOG', 'UÅÖ'), ('NOG', 'ÄNÖ'), ('NOL', 'NÖE'), ('NOL', 'ÄN'), ('NON', 'HÖF'), ('NON', 'NOG'), ('NR', 'ET'), ('NR', 'FLE'), ('NR', 'LGM'), ('NR', 'SH'), ('NR', 'SST'), ('NR', 'STÖ'), ('NRT', 'GV'), ('NS', 'FD'), ('NS', 'VBD'), ('NSÖ', 'STD'), ('NSÖ', 'SUC'), ('NSÖ', 'SUV'), ('NTE', 'MK'), ('NTV', 'NRT'), ('NTV', 'PC'), ('NTV', 'RPS'), ('NVL', 'FB'), ('NVL', 'HG'), ('NVL', 'KÄE'), ('NVL', 'SNV'), ('NVN', 'GST'), ('NYB', 'KAS'), ('NÄ', 'KRM'), ('NÄ', 'MI'), ('NÄT', 'BÅA'), ('NÖE', 'GAS'), ('NÖE', 'NOL'), ('NÖE', 'ÄN'), ('OB', 'KFN'), ('OB', 'SMO'), ('OB', 'SV'), ('OL', 'LYV'), ('OL', 'STJE'), ('OM', 'SARP'), ('OMB', 'FGC'), ('OPE', 'ÖS'), ('OR', 'G'), ('ORN', 'BLGC'), ('ORN', 'FLN'), ('ORN', 'HNO'), ('ORS', 'MRC'), ('ORS', 'VTN'), ('ORS', 'ÄLO'), ('ORY', 'BRIN'), ('OS', 'TIP'), ('OSL', 'GÄ'), ('OSL', 'OB'), ('OSL', 'RBO'), ('OT', 'AR'), ('OT', 'ÅT'), ('OX', 'HIE'), ('P', 'ASD'), ('P', 'OR'), ('P', 'SÄV'), ('PC', 'MK'), ('PC', 'NTV'), ('PEA', 'KMB'), ('PHM', 'HIE'), ('PHM', 'TRI'), ('PHM', 'ÖVN'), ('PJ', 'GV'), ('PJ', 'JK'), ('PL', 'OPE'), ('PL', 'ÖS'), ('PT', 'HYL'), ('PT', 'KVI'), ('PÄB', 'MOS'), ('PÄB', 'VAJ'), ('PÅ', 'HPBG'), ('RAS', 'GP'), ('RB', 'NÄT'), ('RBH', 'HLV'), ('RBK', 'HLK'), ('RBK', 'TRM'), ('RBO', 'BN'), ('RBO', 'HDN'), ('RBO', 'KLS'), ('RBÄ', 'BLGC'), ('RBÄ', 'DÅ'), ('RF', 'TN'), ('RGN', 'BJGR'), ('RGN', 'KJÅ'), ('RJN', 'BF'), ('RJN', 'KVÖ'), ('RJN', 'SRN'), ('RKE', 'ET'), ('RKE', 'FOK'), ('RKE', 'KSUS'), ('RKÖ', 'HVS'), ('RKÖ', 'JÖ'), ('RKÖ', 'JÖGB'), ('RMH', 'GÄG'), ('RMH', 'SLNÄ'), ('RMN', 'BRH'), ('RMN', 'SHR'), ('RMN', 'VSO'), ('RMTP', 'SK'), ('ROG', 'MPB'), ('ROG', 'ÖVN'), ('RPS', 'GV'), ('RS', 'BRA'), ('RT', 'VÅN'), ('RTS', 'KNS'), ('RTS', 'ÖJR'), ('RUK', 'NOG'), ('RUK', 'UÅÖ'), ('RUK', 'ÖK'), ('RV', 'GSÅ'), ('RV', 'LSD'), ('RYG', 'HFR'), ('RYR', 'THN'), ('RYR', 'UV'), ('RYR', 'ÖX'), ('RÅS', 'ÖX'), ('RÖ', 'BOY'), ('RÖ', 'SAE'), ('S', 'FEÖ'), ('S', 'YL'), ('SAE', 'RÖ'), ('SAK', 'MRU'), ('SAK', 'SÖG'), ('SAL', 'BIH'), ('SAL', 'LU'), ('SAL', 'ÅP'), ('SAM', 'U'), ('SARP', 'FUR'), ('SARP', 'OM'), ('SAU', 'BLGC'), ('SAU', 'ST'), ('SAÖ', 'ÖVN'), ('SBE', 'HUM'), ('SBE', 'NOG'), ('SBY', 'SUS'), ('SBÄ', 'KLXV'), ('SDNÄ', 'BNK'), ('SDNÄ', 'LMS'), ('SDY', 'KAS'), ('SDY', 'TRE'), ('SEA', 'LRP'), ('SEA', 'SAÖ'), ('SEE', 'ASB'), ('SEE', 'BGM'), ('SEE', 'VDI'), ('SEN', 'HNL'), ('SEN', 'HSD'), ('SEN', 'SUC'), ('SEN', 'TRÅ'), ('SF', 'GHY'), ('SF', 'NKA'), ('SF', 'SPJB'), ('SFL', 'EL'), ('SFL', 'KIL'), ('SFN', 'KRM'), ('SFN', 'NÄ'), ('SFN', 'UN'), ('SFN', 'ÖS'), ('SG', 'HM'), ('SG', 'VÄD'), ('SGS', 'KJU'), ('SGÄ', 'AVA'), ('SGÄ', 'BUR'), ('SH', 'SST'), ('SHR', 'RMN'), ('SHV', 'BODA'), ('SHV', 'GUI'), ('SHV', 'HFJ'), ('SHV', 'KÄE'), ('SHV', 'LSE'), ('SHV', 'LSN'), ('SHV', 'MB'), ('SHV', 'MYRA'), ('SHV', 'TDJ'), ('SIK', 'NJB'), ('SJKA', 'KTM'), ('SJKA', 'PEA'), ('SK', 'FLB'), ('SK', 'MH'), ('SK', 'OR'), ('SK', 'SST'), ('SK', 'SÖÖ'), ('SKB', 'DN'), ('SKB', 'SLG'), ('SKBY', 'MR'), ('SKE', 'ÖVB'), ('SKG', 'VGA'), ('SKN', 'FGL'), ('SKR', 'KIL'), ('SKR', 'KSC'), ('SKR', 'SÅN'), ('SKRP', 'ET'), ('SKRP', 'HNÄ'), ('SKRU', 'ML'), ('SKÄ', 'JR'), ('SKÄ', 'LS'), ('SKÄ', 'OSL'), ('SL', 'IST'), ('SL', 'UNA'), ('SLE', 'T'), ('SLG', 'FV'), ('SLM', 'KRF'), ('SLNÄ', 'BLGC'), ('SLNÄ', 'GÄG'), ('SLNÄ', 'LA'), ('SLNÄ', 'ULY'), ('SM', 'VF'), ('SMJ', 'FGN'), ('SMJ', 'HGE'), ('SMN', 'TNS'), ('SMO', 'GÄ'), ('SMP', 'GSS'), ('SMP', 'LUP'), ('SMÅ', 'JR'), ('SMÅ', 'VL'), ('SN', 'A'), ('SN', 'OR'), ('SNB', 'ACM'), ('SNB', 'AVKY'), ('SNB', 'HDM'), ('SNT', 'HG'), ('SNT', 'ÄBGB'), ('SNV', 'AVKY'), ('SNV', 'FB'), ('SNV', 'HG'), ('SNV', 'KGD'), ('SNV', 'NVL'), ('SNV', 'SHV'), ('SNV', 'VMU'), ('SNÖ', 'BJY'), ('SNÖ', 'N'), ('SO', 'CST'), ('SO', 'TMÖ'), ('SPJ', 'HMÖ'), ('SPJB', 'KHN'), ('SPK', 'HSD'), ('SPK', 'KRF'), ('SRE', 'VAD'), ('SRN', 'RJN'), ('SRN', 'ÖHL'), ('SRO', 'HF'), ('SRR', 'KVÄ'), ('SRR', 'VE'), ('SRS', 'BNK'), ('SRS', 'BUR'), ('SRT', 'DG'), ('SRT', 'KHN'), ('SRU', 'EM'), ('SRV', 'SAM'), ('SS', 'FN'), ('SS', 'RMTP'), ('SSA', 'NK'), ('SST', 'CST'), ('ST', 'SAU'), ('ST', 'VHY'), ('STD', 'NSÖ'), ('STE', 'VLB'), ('STEN', 'GNP'), ('STEN', 'ÅMY'), ('STJE', 'TOY'), ('STK', 'KIA'), ('STLV', 'HÅP'), ('STLV', 'JPS'), ('STO', 'JRN'), ('STO', 'ÄY'), ('STON', 'SUC'), ('STP', 'MPB'), ('STR', 'ENS'), ('STR', 'STRG'), ('STRG', 'STR'), ('STV', 'BÄ'), ('STV', 'GÖ'), ('STV', 'PL'), ('STÄ', 'BDN'), ('STÖ', 'SST'), ('STÖ', 'SÖÖ'), ('SUB', 'BÅL'), ('SUB', 'NBT'), ('SUC', 'GNP'), ('SUC', 'GÄ'), ('SUC', 'SIK'), ('SUC', 'TJÄ'), ('SUC', 'ÅG'), ('SUM', 'LMS'), ('SUM', 'VJM'), ('SUN', 'KIL'), ('SUN', 'KNS'), ('SUR', 'BOM'), ('SUS', 'SBY'), ('SUS', 'SVT'), ('SUS', 'SÄN'), ('SUV', 'NSÖ'), ('SV', 'BRH'), ('SV', 'BY'), ('SV', 'FLN'), ('SV', 'GAD'), ('SV', 'HÄ'), ('SV', 'JU'), ('SV', 'KGD'), ('SV', 'KLS'), ('SV', 'MÅ'), ('SV', 'NVL'), ('SVC', 'HKS'), ('SVC', 'ÅSRA'), ('SVE', 'OR'), ('SVE', 'YB'), ('SVT', 'BDN'), ('SVT', 'SUS'), ('SVÅ', 'DG'), ('SVÅ', 'HPBG'), ('SVÖ', 'TRG'), ('SÄ', 'AV'), ('SÄ', 'GT'), ('SÄ', 'HM'), ('SÄN', 'BDN'), ('SÄN', 'SUS'), ('SÄP', 'TIP'), ('SÄU', 'KRL'), ('SÄU', 'LSE'), ('SÄU', 'SHV'), ('SÄU', 'SMO'), ('SÄU', 'VV'), ('SÄV', 'OR'), ('SÄV', 'P'), ('SÄY', 'U'), ('SÅN', 'KIL'), ('SÖD', 'ÄS'), ('SÖG', 'SAK'), ('SÖLA', 'MLB'), ('SÖU', 'BRE'), ('SÖÖ', 'HPBG'), ('SÖÖ', 'HRC'), ('SÖÖ', 'SK'), ('SÖÖ', 'SST'), ('SÖÖ', 'VHD'), ('T', 'HPBG'), ('T', 'VÄ'), ('TAG', 'MÅP'), ('TAG', 'NHR'), ('TBA', 'GTÅ'), ('TBA', 'JÅR'), ('TBO', 'SÄP'), ('TBY', 'BF'), ('TBY', 'FKR'), ('TDJ', 'GÄ'), ('TDJ', 'KRL'), ('TDJ', 'SHV'), ('TDJ', 'SMO'), ('THL', 'LU'), ('THN', 'GAS'), ('THN', 'ML'), ('THN', 'OR'), ('THN', 'RYR'), ('TIP', 'BOM'), ('TJS', 'BEF'), ('TJSK', 'GAL'), ('TJSK', 'JY'), ('TJSK', 'VK'), ('TJÄ', 'GNP'), ('TJÄ', 'HKL'), ('TJÄ', 'NJB'), ('TJÄ', 'STON'), ('TJÄ', 'SUC'), ('TL', 'LS'), ('TLI', 'KÖP'), ('TLI', 'LUP'), ('TLT', 'FRÅ'), ('TLT', 'KIL'), ('TMÖ', 'SOD'), ('TN', 'BTH'), ('TN', 'LP'), ('TN', 'RF'), ('TNS', 'LP'), ('TNU', 'ÖVB'), ('TOF', 'DRE'), ('TOF', 'VB'), ('TOP', 'LJU'), ('TOP', 'MOY'), ('TOT', 'BÅL'), ('TOU', 'KID'), ('TOY', 'OL'), ('TP', 'BIH'), ('TP', 'E'), ('TP', 'LU'), ('TP', 'MAR'), ('TRE', 'KAS'), ('TRE', 'SDY'), ('TRG', 'ÖVN'), ('TRI', 'LNK'), ('TRI', 'M'), ('TRM', 'BMB'), ('TRM', 'RBK'), ('TRÅ', 'BIA'), ('TRÅ', 'HNL'), ('TRÅ', 'SEN'), ('TSL', 'BUT'), ('TSL', 'DLD'), ('TSÅ', 'HLR'), ('TSÅ', 'SV'), ('TUL', 'UTS'), ('TVB', 'TVÄ'), ('TVB', 'VNS'), ('TVD', 'HOVA'), ('TVD', 'LYD'), ('TVÄ', 'TVB'), ('TVÄ', 'VBY'), ('TVÄ', 'VÄN'), ('TY', 'FIN'), ('TY', 'HYL'), ('TÅV', 'NÄ'), ('TÅV', 'UN'), ('TÖE', 'ÅL'), ('U', 'AVKY'), ('U', 'BNA'), ('U', 'BOM'), ('U', 'JLA'), ('U', 'LS'), ('U', 'MÅ'), ('U', 'NBT'), ('U', 'UNA'), ('UF', 'HTG'), ('UF', 'JS'), ('ULY', 'LA'), ('ULY', 'SLNÄ'), ('UN', 'MI'), ('UN', 'SFN'), ('UN', 'ÖS'), ('UNA', 'BNA'), ('UNA', 'SL'), ('UNA', 'U'), ('UPV', 'U'), ('UTS', 'TU'), ('UV', 'RYR'), ('UÅ', 'BRD'), ('UÅ', 'BST'), ('UÅ', 'BTB'), ('UÅ', 'TVÄ'), ('UÅ', 'UÅGB'), ('UÅ', 'VDN'), ('UÅ', 'ÖK'), ('UÅGB', 'VBY'), ('UÅÖ', 'GIM'), ('UÅÖ', 'HÖS'), ('UÅÖ', 'NOG'), ('V', 'HTO'), ('VAA', 'FC'), ('VAA', 'JPS'), ('VAD', 'FGN'), ('VAD', 'SRE'), ('VAJ', 'KÅB'), ('VAJ', 'PÄB'), ('VB', 'HD'), ('VB', 'SEE'), ('VB', 'TOF'), ('VB', 'ÅSA'), ('VBD', 'BGS'), ('VBD', 'NS'), ('VBY', 'BTB'), ('VBÄ', 'JY'), ('VBÄ', 'TJSK'), ('VDB', 'SFL'), ('VDI', 'DRE'), ('VDI', 'SEE'), ('VDN', 'ETK'), ('VDN', 'UÅ'), ('VDV', 'FV'), ('VDV', 'LD'), ('VE', 'KSC'), ('VE', 'SRR'), ('VE', 'ÖL'), ('VF', 'F'), ('VGA', 'HND'), ('VGA', 'SKG'), ('VGD', 'HOK'), ('VGD', 'MÅP'), ('VHD', 'HLÖ'), ('VHD', 'LRE'), ('VHD', 'NK'), ('VHD', 'SSA'), ('VHD', 'SÖÖ'), ('VHY', 'HDM'), ('VHY', 'ST'), ('VIA', 'GNP'), ('VIA', 'HKL'), ('VIB', 'ALV'), ('VIB', 'SRO'), ('VIBH', 'VIB'), ('VID', 'SVÖ'), ('VID', 'ÖVN'), ('VIP', 'FÖR'), ('VJ', 'BLN'), ('VJ', 'KJÅ'), ('VJ', 'LÅK'), ('VJM', 'SUM'), ('VJM', 'VMAN'), ('VK', 'JY'), ('VK', 'TJSK'), ('VL', 'KSÖ'), ('VL', 'LÖ'), ('VL', 'SMÅ'), ('VLB', 'SRP'), ('VLB', 'Y'), ('VMA', 'MLF'), ('VMA', 'VMAN'), ('VMAN', 'VJM'), ('VMAN', 'VMA'), ('VMU', 'SV'), ('VNS', 'TVB'), ('VR', 'PÅ'), ('VRU', 'KH'), ('VRÖ', 'VB'), ('VSG', 'ARB'), ('VSO', 'RMN'), ('VTN', 'MRC'), ('VTN', 'ORS'), ('VTO', 'FIN'), ('VTO', 'KL'), ('VV', 'LSE'), ('VV', 'SHV'), ('VV', 'TDJ'), ('VÄ', 'SK'), ('VÄD', 'E'), ('VÄD', 'HM'), ('VÄD', 'MLB'), ('VÄN', 'VNS'), ('VÄT', 'BÄB'), ('VÄT', 'ÖJR'), ('VÄY', 'BJA'), ('VÄY', 'GÅN'), ('VÄY', 'HÄB'), ('VÅ', 'SL'), ('VÅN', 'VÅ'), ('VÅV', 'VÅ'), ('VÖ', 'GM'), ('VÖV', 'ATP'), ('Y', 'KÖP'), ('Y', 'VLB'), ('YB', 'OR'), ('YB', 'SVE'), ('YL', 'S'), ('YL', 'ÖHL'), ('Ä', 'KA'), ('Ä', 'MIA'), ('Ä', 'TP'), ('Ä', 'ÅP'), ('ÄBG', 'VÅ'), ('ÄBG', 'ÄBGB'), ('ÄBGB', 'SNT'), ('ÄBGB', 'ÄBG'), ('ÄH', 'BL'), ('ÄKB', 'MAA'), ('ÄLO', 'LHR'), ('ÄLO', 'ORS'), ('ÄN', 'ALH'), ('ÄN', 'NOL'), ('ÄNG', 'FM'), ('ÄNG', 'N'), ('ÄNÖ', 'HÖF'), ('ÄNÖ', 'NOG'), ('ÄS', 'CST'), ('ÄS', 'UTS'), ('ÄS', 'ÄSG'), ('ÄS', 'ÖTE'), ('ÄSG', 'ÄS'), ('ÄSR', 'LNÅ'), ('ÄSR', 'ÖÄG'), ('ÄY', 'BDN'), ('ÄY', 'JRN'), ('ÄY', 'STO'), ('Å', 'HPBG'), ('ÅB', 'HVR'), ('ÅB', 'SKRU'), ('ÅBA', 'KON'), ('ÅBS', 'NR'), ('ÅG', 'NSÖ'), ('ÅG', 'SUC'), ('ÅG', 'TL'), ('ÅH', 'SV'), ('ÅK', 'BLV'), ('ÅK', 'HJP'), ('ÅK', 'LU'), ('ÅKG', 'GNP'), ('ÅL', 'EL'), ('ÅL', 'ERK'), ('ÅL', 'ÅNM'), ('ÅLG', 'FEB'), ('ÅMN', 'KH'), ('ÅMY', 'GNP'), ('ÅMY', 'HKL'), ('ÅNM', 'ML'), ('ÅNN', 'ENS'), ('ÅP', 'FIN'), ('ÅP', 'HBGB'), ('ÅP', 'HD'), ('ÅP', 'KA'), ('ÅP', 'KL'), ('ÅP', 'SAL'), ('ÅP', 'Ä'), ('ÅRD', 'VÖ'), ('ÅS', 'CG'), ('ÅSA', 'KB'), ('ÅSA', 'VB'), ('ÅSA', 'VRÖ'), ('ÅSRA', 'KVÖ'), ('ÅSRA', 'SVC'), ('ÅT', 'OT'), ('ÅT', 'ÅS'), ('ÅVG', 'BTH'), ('ÅVG', 'TN'), ('ÖG', 'SVÖ'), ('ÖHL', 'SRN'), ('ÖHL', 'YL'), ('ÖJR', 'RTS'), ('ÖJR', 'VÄT'), ('ÖK', 'ARA'), ('ÖK', 'GIA'), ('ÖK', 'GIM'), ('ÖK', 'GÅN'), ('ÖK', 'HÄB'), ('ÖK', 'RUK'), ('ÖK', 'SLM'), ('ÖKN', 'ARA'), ('ÖKN', 'HUM'), ('ÖKN', 'HÖG'), ('ÖL', 'KHN'), ('ÖL', 'KSC'), ('ÖL', 'KVÄ'), ('ÖL', 'SRR'), ('ÖL', 'VE'), ('ÖND', 'KAP'), ('ÖR', 'HPBG'), ('ÖR', 'HSA'), ('ÖS', 'GÖ'), ('ÖS', 'KRM'), ('ÖS', 'RBO'), ('ÖS', 'SFN'), ('ÖS', 'SKÄ'), ('ÖS', 'TÅV'), ('ÖS', 'UN'), ('ÖSV', 'JLI'), ('ÖSV', 'KRM'), ('ÖVB', 'SKE'), ('ÖVB', 'TNU'), ('ÖVMB', 'FAL'), ('ÖVMB', 'GAL'), ('ÖVN', 'M'), ('ÖVN', 'ROG'), ('ÖX', 'BJH'), ('ÖX', 'BÄF'), ('ÖX', 'RYR'), ('ÖÄG', 'FHM'), ('ÖÄG', 'ÄSR')] will be ignored\n",
      "  warnings.warn(\n"
     ]
    },
    {
     "name": "stdout",
     "output_type": "stream",
     "text": [
      "      Tågnr  Tåguppdrag Predicted_Line  \\\n",
      "0       822        5407           5102   \n",
      "1       838        5335           5102   \n",
      "2       862        5317           5102   \n",
      "3       810        5309           5102   \n",
      "4       806        5289           5102   \n",
      "...     ...         ...            ...   \n",
      "5827  11295        1080          10701   \n",
      "5828  13582        1085          10803   \n",
      "5829  32580       15816          10803   \n",
      "5830  29741       29741          10801   \n",
      "5831  23609        2635          10803   \n",
      "\n",
      "                                            Line_Stopps  \n",
      "0                         [CST, MR, KN, Bergsbrunna, U]  \n",
      "1                         [CST, MR, KN, Bergsbrunna, U]  \n",
      "2                         [CST, MR, KN, Bergsbrunna, U]  \n",
      "3                         [CST, MR, KN, Bergsbrunna, U]  \n",
      "4                         [CST, MR, KN, Bergsbrunna, U]  \n",
      "...                                                 ...  \n",
      "5827                                  [MC, SEA, SRP, Y]  \n",
      "5828                                          [MC, TRG]  \n",
      "5829                                          [MC, TRG]  \n",
      "5830  [MIA, HB, HBGB, RYÄ, GLV, LKÖ, HÄP, DÖS, KG, G...  \n",
      "5831                                          [MC, TRG]  \n",
      "\n",
      "[5832 rows x 4 columns]\n"
     ]
    }
   ],
   "source": [
    "from sklearn.neighbors import KNeighborsClassifier\n",
    "from sklearn.preprocessing import MultiLabelBinarizer\n",
    "from sklearn.metrics import accuracy_score\n",
    "\n",
    "# Function to generate pairwise transitions\n",
    "def generate_transitions(stops):\n",
    "    return [(stops[i], stops[i + 1]) for i in range(len(stops) - 1)]\n",
    "\n",
    "# Generate transitions for lines\n",
    "line_transitions = line_stops['Stopps'].apply(generate_transitions)\n",
    "\n",
    "# Generate transitions for trains\n",
    "train_transitions = train_stops['Stopps'].apply(generate_transitions)\n",
    "\n",
    "# Binarize transitions\n",
    "mlb = MultiLabelBinarizer()\n",
    "line_patterns = mlb.fit_transform(line_transitions)\n",
    "train_patterns = mlb.transform(train_transitions)\n",
    "\n",
    "# Assign line IDs as labels\n",
    "line_labels = line_stops['Linje']\n",
    "\n",
    "# Train KNN classifier\n",
    "knn = KNeighborsClassifier(n_neighbors=1)\n",
    "knn.fit(line_patterns, line_labels)\n",
    "\n",
    "# Predict closest line for each train\n",
    "predicted_lines = knn.predict(train_patterns)\n",
    "\n",
    "# Add predictions and corresponding line stops to the result\n",
    "result = train_stops.copy()\n",
    "result['Predicted_Line'] = predicted_lines\n",
    "\n",
    "# Map the stops from line_stops to the predicted lines\n",
    "line_stops_dict = line_stops.set_index('Linje')['Stopps'].to_dict()\n",
    "result['Line_Stopps'] = result['Predicted_Line'].map(line_stops_dict)\n",
    "\n",
    "# Display the result\n",
    "print(result[['Tågnr', 'Tåguppdrag', 'Predicted_Line', 'Line_Stopps']])"
   ]
  }
 ],
 "metadata": {
  "kernelspec": {
   "display_name": "Python 3",
   "language": "python",
   "name": "python3"
  },
  "language_info": {
   "codemirror_mode": {
    "name": "ipython",
    "version": 3
   },
   "file_extension": ".py",
   "mimetype": "text/x-python",
   "name": "python",
   "nbconvert_exporter": "python",
   "pygments_lexer": "ipython3",
   "version": "3.9.5"
  }
 },
 "nbformat": 4,
 "nbformat_minor": 2
}
